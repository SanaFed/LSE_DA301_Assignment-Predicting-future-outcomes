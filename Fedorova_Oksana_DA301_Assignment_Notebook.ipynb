{
 "cells": [
  {
   "cell_type": "markdown",
   "id": "59711a08",
   "metadata": {},
   "source": [
    "### LSE Data Analytics Online Career Accelerator \n",
    "\n",
    "# DA301:  Advanced Analytics for Organisational Impact"
   ]
  },
  {
   "cell_type": "markdown",
   "id": "03291ae9",
   "metadata": {},
   "source": [
    "## Assignment template"
   ]
  },
  {
   "cell_type": "markdown",
   "id": "3d90776e",
   "metadata": {},
   "source": [
    "### Scenario\n",
    "You are a data analyst working for Turtle Games, a game manufacturer and retailer. They manufacture and sell their own products, along with sourcing and selling products manufactured by other companies. Their product range includes books, board games, video games and toys. They have a global customer base and have a business objective of improving overall sales performance by utilising customer trends. In particular, Turtle Games wants to understand: \n",
    "- how customers accumulate loyalty points (Week 1)\n",
    "- how useful are remuneration and spending scores data (Week 2)\n",
    "- can social data (e.g. customer reviews) be used in marketing campaigns (Week 3)\n",
    "- what is the impact on sales per product (Week 4)\n",
    "- the reliability of the data (e.g. normal distribution, Skewness, Kurtosis) (Week 5)\n",
    "- if there is any possible relationship(s) in sales between North America, Europe, and global sales (Week 6)."
   ]
  },
  {
   "cell_type": "markdown",
   "id": "dbdfeaee",
   "metadata": {},
   "source": [
    "# Week 1 assignment: Linear regression using Python\n",
    "The marketing department of Turtle Games prefers Python for data analysis. As you are fluent in Python, they asked you to assist with data analysis of social media data. The marketing department wants to better understand how users accumulate loyalty points. Therefore, you need to investigate the possible relationships between the loyalty points, age, remuneration, and spending scores. Note that you will use this data set in future modules as well and it is, therefore, strongly encouraged to first clean the data as per provided guidelines and then save a copy of the clean data for future use.\n",
    "\n",
    "## Instructions\n",
    "1. Load and explore the data.\n",
    "    1. Create a new DataFrame (e.g. reviews).\n",
    "    2. Sense-check the DataFrame.\n",
    "    3. Determine if there are any missing values in the DataFrame.\n",
    "    4. Create a summary of the descriptive statistics.\n",
    "2. Remove redundant columns (`language` and `platform`).\n",
    "3. Change column headings to names that are easier to reference (e.g. `renumeration` and `spending_score`).\n",
    "4. Save a copy of the clean DataFrame as a CSV file. Import the file to sense-check.\n",
    "5. Use linear regression and the `statsmodels` functions to evaluate possible linear relationships between loyalty points and age/renumeration/spending scores to determine whether these can be used to predict the loyalty points.\n",
    "    1. Specify the independent and dependent variables.\n",
    "    2. Create the OLS model.\n",
    "    3. Extract the estimated parameters, standard errors, and predicted values.\n",
    "    4. Generate the regression table based on the X coefficient and constant values.\n",
    "    5. Plot the linear regression and add a regression line.\n",
    "6. Include your insights and observations."
   ]
  },
  {
   "cell_type": "markdown",
   "id": "15ea2c71",
   "metadata": {},
   "source": [
    "## 1. Load and explore the data"
   ]
  },
  {
   "cell_type": "code",
   "execution_count": 1,
   "id": "45cc3186",
   "metadata": {},
   "outputs": [],
   "source": [
    "# Import the necessary libraries.\n",
    "import numpy as np\n",
    "import pandas as pd\n",
    "import matplotlib.pyplot as plt\n",
    "import seaborn as sns\n",
    "import statsmodels.api as sm \n",
    "from statsmodels.formula.api import ols\n",
    "import statsmodels.stats.api as sms\n",
    "from statsmodels.stats.outliers_influence import variance_inflation_factor"
   ]
  },
  {
   "cell_type": "code",
   "execution_count": 2,
   "id": "b8c3d8de",
   "metadata": {},
   "outputs": [
    {
     "data": {
      "text/html": [
       "<div>\n",
       "<style scoped>\n",
       "    .dataframe tbody tr th:only-of-type {\n",
       "        vertical-align: middle;\n",
       "    }\n",
       "\n",
       "    .dataframe tbody tr th {\n",
       "        vertical-align: top;\n",
       "    }\n",
       "\n",
       "    .dataframe thead th {\n",
       "        text-align: right;\n",
       "    }\n",
       "</style>\n",
       "<table border=\"1\" class=\"dataframe\">\n",
       "  <thead>\n",
       "    <tr style=\"text-align: right;\">\n",
       "      <th></th>\n",
       "      <th>gender</th>\n",
       "      <th>age</th>\n",
       "      <th>remuneration (k£)</th>\n",
       "      <th>spending_score (1-100)</th>\n",
       "      <th>loyalty_points</th>\n",
       "      <th>education</th>\n",
       "      <th>language</th>\n",
       "      <th>platform</th>\n",
       "      <th>product</th>\n",
       "      <th>review</th>\n",
       "      <th>summary</th>\n",
       "    </tr>\n",
       "  </thead>\n",
       "  <tbody>\n",
       "    <tr>\n",
       "      <th>0</th>\n",
       "      <td>Male</td>\n",
       "      <td>18</td>\n",
       "      <td>12.30</td>\n",
       "      <td>39</td>\n",
       "      <td>210</td>\n",
       "      <td>graduate</td>\n",
       "      <td>EN</td>\n",
       "      <td>Web</td>\n",
       "      <td>453</td>\n",
       "      <td>When it comes to a DM's screen, the space on t...</td>\n",
       "      <td>The fact that 50% of this space is wasted on a...</td>\n",
       "    </tr>\n",
       "    <tr>\n",
       "      <th>1</th>\n",
       "      <td>Male</td>\n",
       "      <td>23</td>\n",
       "      <td>12.30</td>\n",
       "      <td>81</td>\n",
       "      <td>524</td>\n",
       "      <td>graduate</td>\n",
       "      <td>EN</td>\n",
       "      <td>Web</td>\n",
       "      <td>466</td>\n",
       "      <td>An Open Letter to GaleForce9*:\\n\\nYour unpaint...</td>\n",
       "      <td>Another worthless Dungeon Master's screen from...</td>\n",
       "    </tr>\n",
       "    <tr>\n",
       "      <th>2</th>\n",
       "      <td>Female</td>\n",
       "      <td>22</td>\n",
       "      <td>13.12</td>\n",
       "      <td>6</td>\n",
       "      <td>40</td>\n",
       "      <td>graduate</td>\n",
       "      <td>EN</td>\n",
       "      <td>Web</td>\n",
       "      <td>254</td>\n",
       "      <td>Nice art, nice printing.  Why two panels are f...</td>\n",
       "      <td>pretty, but also pretty useless</td>\n",
       "    </tr>\n",
       "    <tr>\n",
       "      <th>3</th>\n",
       "      <td>Female</td>\n",
       "      <td>25</td>\n",
       "      <td>13.12</td>\n",
       "      <td>77</td>\n",
       "      <td>562</td>\n",
       "      <td>graduate</td>\n",
       "      <td>EN</td>\n",
       "      <td>Web</td>\n",
       "      <td>263</td>\n",
       "      <td>Amazing buy! Bought it as a gift for our new d...</td>\n",
       "      <td>Five Stars</td>\n",
       "    </tr>\n",
       "    <tr>\n",
       "      <th>4</th>\n",
       "      <td>Female</td>\n",
       "      <td>33</td>\n",
       "      <td>13.94</td>\n",
       "      <td>40</td>\n",
       "      <td>366</td>\n",
       "      <td>graduate</td>\n",
       "      <td>EN</td>\n",
       "      <td>Web</td>\n",
       "      <td>291</td>\n",
       "      <td>As my review of GF9's previous screens these w...</td>\n",
       "      <td>Money trap</td>\n",
       "    </tr>\n",
       "  </tbody>\n",
       "</table>\n",
       "</div>"
      ],
      "text/plain": [
       "   gender  age  remuneration (k£)  spending_score (1-100)  loyalty_points  \\\n",
       "0    Male   18              12.30                      39             210   \n",
       "1    Male   23              12.30                      81             524   \n",
       "2  Female   22              13.12                       6              40   \n",
       "3  Female   25              13.12                      77             562   \n",
       "4  Female   33              13.94                      40             366   \n",
       "\n",
       "  education language platform  product  \\\n",
       "0  graduate       EN      Web      453   \n",
       "1  graduate       EN      Web      466   \n",
       "2  graduate       EN      Web      254   \n",
       "3  graduate       EN      Web      263   \n",
       "4  graduate       EN      Web      291   \n",
       "\n",
       "                                              review  \\\n",
       "0  When it comes to a DM's screen, the space on t...   \n",
       "1  An Open Letter to GaleForce9*:\\n\\nYour unpaint...   \n",
       "2  Nice art, nice printing.  Why two panels are f...   \n",
       "3  Amazing buy! Bought it as a gift for our new d...   \n",
       "4  As my review of GF9's previous screens these w...   \n",
       "\n",
       "                                             summary  \n",
       "0  The fact that 50% of this space is wasted on a...  \n",
       "1  Another worthless Dungeon Master's screen from...  \n",
       "2                    pretty, but also pretty useless  \n",
       "3                                         Five Stars  \n",
       "4                                         Money trap  "
      ]
     },
     "execution_count": 2,
     "metadata": {},
     "output_type": "execute_result"
    }
   ],
   "source": [
    "# Load the CSV file(s) as reviews.\n",
    "reviews = pd.read_csv('turtle_reviews.csv')\n",
    "\n",
    "# View the DataFrame.\n",
    "reviews.head()"
   ]
  },
  {
   "cell_type": "code",
   "execution_count": 3,
   "id": "74f96de1-888a-4698-9ec1-23e768642848",
   "metadata": {},
   "outputs": [
    {
     "data": {
      "text/plain": [
       "gender                    0\n",
       "age                       0\n",
       "remuneration (k£)         0\n",
       "spending_score (1-100)    0\n",
       "loyalty_points            0\n",
       "education                 0\n",
       "language                  0\n",
       "platform                  0\n",
       "product                   0\n",
       "review                    0\n",
       "summary                   0\n",
       "dtype: int64"
      ]
     },
     "execution_count": 3,
     "metadata": {},
     "output_type": "execute_result"
    }
   ],
   "source": [
    "# Any missing values?\n",
    "reviews.isnull().sum()"
   ]
  },
  {
   "cell_type": "code",
   "execution_count": 4,
   "id": "d9f36bd0-71be-4494-b873-1b1a2f52f258",
   "metadata": {},
   "outputs": [
    {
     "name": "stdout",
     "output_type": "stream",
     "text": [
      "<class 'pandas.core.frame.DataFrame'>\n",
      "RangeIndex: 2000 entries, 0 to 1999\n",
      "Data columns (total 11 columns):\n",
      " #   Column                  Non-Null Count  Dtype  \n",
      "---  ------                  --------------  -----  \n",
      " 0   gender                  2000 non-null   object \n",
      " 1   age                     2000 non-null   int64  \n",
      " 2   remuneration (k£)       2000 non-null   float64\n",
      " 3   spending_score (1-100)  2000 non-null   int64  \n",
      " 4   loyalty_points          2000 non-null   int64  \n",
      " 5   education               2000 non-null   object \n",
      " 6   language                2000 non-null   object \n",
      " 7   platform                2000 non-null   object \n",
      " 8   product                 2000 non-null   int64  \n",
      " 9   review                  2000 non-null   object \n",
      " 10  summary                 2000 non-null   object \n",
      "dtypes: float64(1), int64(4), object(6)\n",
      "memory usage: 172.0+ KB\n"
     ]
    }
   ],
   "source": [
    "# Explore the data.\n",
    "reviews.info()"
   ]
  },
  {
   "cell_type": "code",
   "execution_count": 5,
   "id": "fad16658-b4eb-4080-8084-ea043453ce8a",
   "metadata": {},
   "outputs": [
    {
     "data": {
      "text/html": [
       "<div>\n",
       "<style scoped>\n",
       "    .dataframe tbody tr th:only-of-type {\n",
       "        vertical-align: middle;\n",
       "    }\n",
       "\n",
       "    .dataframe tbody tr th {\n",
       "        vertical-align: top;\n",
       "    }\n",
       "\n",
       "    .dataframe thead th {\n",
       "        text-align: right;\n",
       "    }\n",
       "</style>\n",
       "<table border=\"1\" class=\"dataframe\">\n",
       "  <thead>\n",
       "    <tr style=\"text-align: right;\">\n",
       "      <th></th>\n",
       "      <th>age</th>\n",
       "      <th>remuneration (k£)</th>\n",
       "      <th>spending_score (1-100)</th>\n",
       "      <th>loyalty_points</th>\n",
       "      <th>product</th>\n",
       "    </tr>\n",
       "  </thead>\n",
       "  <tbody>\n",
       "    <tr>\n",
       "      <th>count</th>\n",
       "      <td>2000.000000</td>\n",
       "      <td>2000.000000</td>\n",
       "      <td>2000.000000</td>\n",
       "      <td>2000.000000</td>\n",
       "      <td>2000.000000</td>\n",
       "    </tr>\n",
       "    <tr>\n",
       "      <th>mean</th>\n",
       "      <td>39.495000</td>\n",
       "      <td>48.079060</td>\n",
       "      <td>50.000000</td>\n",
       "      <td>1578.032000</td>\n",
       "      <td>4320.521500</td>\n",
       "    </tr>\n",
       "    <tr>\n",
       "      <th>std</th>\n",
       "      <td>13.573212</td>\n",
       "      <td>23.123984</td>\n",
       "      <td>26.094702</td>\n",
       "      <td>1283.239705</td>\n",
       "      <td>3148.938839</td>\n",
       "    </tr>\n",
       "    <tr>\n",
       "      <th>min</th>\n",
       "      <td>17.000000</td>\n",
       "      <td>12.300000</td>\n",
       "      <td>1.000000</td>\n",
       "      <td>25.000000</td>\n",
       "      <td>107.000000</td>\n",
       "    </tr>\n",
       "    <tr>\n",
       "      <th>25%</th>\n",
       "      <td>29.000000</td>\n",
       "      <td>30.340000</td>\n",
       "      <td>32.000000</td>\n",
       "      <td>772.000000</td>\n",
       "      <td>1589.250000</td>\n",
       "    </tr>\n",
       "    <tr>\n",
       "      <th>50%</th>\n",
       "      <td>38.000000</td>\n",
       "      <td>47.150000</td>\n",
       "      <td>50.000000</td>\n",
       "      <td>1276.000000</td>\n",
       "      <td>3624.000000</td>\n",
       "    </tr>\n",
       "    <tr>\n",
       "      <th>75%</th>\n",
       "      <td>49.000000</td>\n",
       "      <td>63.960000</td>\n",
       "      <td>73.000000</td>\n",
       "      <td>1751.250000</td>\n",
       "      <td>6654.000000</td>\n",
       "    </tr>\n",
       "    <tr>\n",
       "      <th>max</th>\n",
       "      <td>72.000000</td>\n",
       "      <td>112.340000</td>\n",
       "      <td>99.000000</td>\n",
       "      <td>6847.000000</td>\n",
       "      <td>11086.000000</td>\n",
       "    </tr>\n",
       "  </tbody>\n",
       "</table>\n",
       "</div>"
      ],
      "text/plain": [
       "               age  remuneration (k£)  spending_score (1-100)  loyalty_points  \\\n",
       "count  2000.000000        2000.000000             2000.000000     2000.000000   \n",
       "mean     39.495000          48.079060               50.000000     1578.032000   \n",
       "std      13.573212          23.123984               26.094702     1283.239705   \n",
       "min      17.000000          12.300000                1.000000       25.000000   \n",
       "25%      29.000000          30.340000               32.000000      772.000000   \n",
       "50%      38.000000          47.150000               50.000000     1276.000000   \n",
       "75%      49.000000          63.960000               73.000000     1751.250000   \n",
       "max      72.000000         112.340000               99.000000     6847.000000   \n",
       "\n",
       "            product  \n",
       "count   2000.000000  \n",
       "mean    4320.521500  \n",
       "std     3148.938839  \n",
       "min      107.000000  \n",
       "25%     1589.250000  \n",
       "50%     3624.000000  \n",
       "75%     6654.000000  \n",
       "max    11086.000000  "
      ]
     },
     "execution_count": 5,
     "metadata": {},
     "output_type": "execute_result"
    }
   ],
   "source": [
    "# Descriptive statistics.\n",
    "reviews.describe()"
   ]
  },
  {
   "cell_type": "markdown",
   "id": "5d25344d-3aed-4d27-bb24-2142be9c99ef",
   "metadata": {},
   "source": [
    "## 2. Drop columns"
   ]
  },
  {
   "cell_type": "code",
   "execution_count": 6,
   "id": "511b813a-f04f-4c3a-9a11-ad6d7a423525",
   "metadata": {},
   "outputs": [
    {
     "data": {
      "text/plain": [
       "Index(['gender', 'age', 'remuneration (k£)', 'spending_score (1-100)',\n",
       "       'loyalty_points', 'education', 'product', 'review', 'summary'],\n",
       "      dtype='object')"
      ]
     },
     "execution_count": 6,
     "metadata": {},
     "output_type": "execute_result"
    }
   ],
   "source": [
    "# Drop unnecessary columns.\n",
    "reviews_1 = reviews.drop(columns = ['language', 'platform'])\n",
    "\n",
    "# View column names.\n",
    "reviews_1.columns"
   ]
  },
  {
   "cell_type": "markdown",
   "id": "8fafd556-c6fa-439b-aac3-0fe332b1eb45",
   "metadata": {},
   "source": [
    "## 3. Rename columns"
   ]
  },
  {
   "cell_type": "code",
   "execution_count": 7,
   "id": "e06310ed-ab6b-4f6e-8307-bdd3380853f5",
   "metadata": {},
   "outputs": [
    {
     "data": {
      "text/plain": [
       "Index(['gender', 'age', 'annual_income (k£)', 'spending_score',\n",
       "       'loyalty_points', 'education', 'product_code', 'review', 'summary'],\n",
       "      dtype='object')"
      ]
     },
     "execution_count": 7,
     "metadata": {},
     "output_type": "execute_result"
    }
   ],
   "source": [
    "# Rename the column headers.\n",
    "reviews_final = reviews_1.rename(columns={'remuneration (k£)':'annual_income (k£)', \n",
    "                                          'spending_score (1-100)':'spending_score', \n",
    "                                          'product':'product_code'})\n",
    "\n",
    "# View column names.\n",
    "reviews_final.columns"
   ]
  },
  {
   "cell_type": "markdown",
   "id": "6c386d53-d38c-4b24-8883-7d2257320036",
   "metadata": {},
   "source": [
    "## 4. Save the DataFrame as a CSV file"
   ]
  },
  {
   "cell_type": "code",
   "execution_count": 8,
   "id": "76fc1746-570a-47cc-a8a9-fe8b6756a285",
   "metadata": {},
   "outputs": [],
   "source": [
    "# Create a CSV file as output.\n",
    "reviews_final.to_csv('reviews_final.csv')"
   ]
  },
  {
   "cell_type": "code",
   "execution_count": 9,
   "id": "584d4f35-c1b3-40ab-ba63-c5fc551f3ef5",
   "metadata": {},
   "outputs": [
    {
     "data": {
      "text/html": [
       "<div>\n",
       "<style scoped>\n",
       "    .dataframe tbody tr th:only-of-type {\n",
       "        vertical-align: middle;\n",
       "    }\n",
       "\n",
       "    .dataframe tbody tr th {\n",
       "        vertical-align: top;\n",
       "    }\n",
       "\n",
       "    .dataframe thead th {\n",
       "        text-align: right;\n",
       "    }\n",
       "</style>\n",
       "<table border=\"1\" class=\"dataframe\">\n",
       "  <thead>\n",
       "    <tr style=\"text-align: right;\">\n",
       "      <th></th>\n",
       "      <th>gender</th>\n",
       "      <th>age</th>\n",
       "      <th>annual_income (k£)</th>\n",
       "      <th>spending_score</th>\n",
       "      <th>loyalty_points</th>\n",
       "      <th>education</th>\n",
       "      <th>product_code</th>\n",
       "      <th>review</th>\n",
       "      <th>summary</th>\n",
       "    </tr>\n",
       "  </thead>\n",
       "  <tbody>\n",
       "    <tr>\n",
       "      <th>0</th>\n",
       "      <td>Male</td>\n",
       "      <td>18</td>\n",
       "      <td>12.30</td>\n",
       "      <td>39</td>\n",
       "      <td>210</td>\n",
       "      <td>graduate</td>\n",
       "      <td>453</td>\n",
       "      <td>When it comes to a DM's screen, the space on t...</td>\n",
       "      <td>The fact that 50% of this space is wasted on a...</td>\n",
       "    </tr>\n",
       "    <tr>\n",
       "      <th>1</th>\n",
       "      <td>Male</td>\n",
       "      <td>23</td>\n",
       "      <td>12.30</td>\n",
       "      <td>81</td>\n",
       "      <td>524</td>\n",
       "      <td>graduate</td>\n",
       "      <td>466</td>\n",
       "      <td>An Open Letter to GaleForce9*:\\n\\nYour unpaint...</td>\n",
       "      <td>Another worthless Dungeon Master's screen from...</td>\n",
       "    </tr>\n",
       "    <tr>\n",
       "      <th>2</th>\n",
       "      <td>Female</td>\n",
       "      <td>22</td>\n",
       "      <td>13.12</td>\n",
       "      <td>6</td>\n",
       "      <td>40</td>\n",
       "      <td>graduate</td>\n",
       "      <td>254</td>\n",
       "      <td>Nice art, nice printing.  Why two panels are f...</td>\n",
       "      <td>pretty, but also pretty useless</td>\n",
       "    </tr>\n",
       "    <tr>\n",
       "      <th>3</th>\n",
       "      <td>Female</td>\n",
       "      <td>25</td>\n",
       "      <td>13.12</td>\n",
       "      <td>77</td>\n",
       "      <td>562</td>\n",
       "      <td>graduate</td>\n",
       "      <td>263</td>\n",
       "      <td>Amazing buy! Bought it as a gift for our new d...</td>\n",
       "      <td>Five Stars</td>\n",
       "    </tr>\n",
       "    <tr>\n",
       "      <th>4</th>\n",
       "      <td>Female</td>\n",
       "      <td>33</td>\n",
       "      <td>13.94</td>\n",
       "      <td>40</td>\n",
       "      <td>366</td>\n",
       "      <td>graduate</td>\n",
       "      <td>291</td>\n",
       "      <td>As my review of GF9's previous screens these w...</td>\n",
       "      <td>Money trap</td>\n",
       "    </tr>\n",
       "  </tbody>\n",
       "</table>\n",
       "</div>"
      ],
      "text/plain": [
       "   gender  age  annual_income (k£)  spending_score  loyalty_points education  \\\n",
       "0    Male   18               12.30              39             210  graduate   \n",
       "1    Male   23               12.30              81             524  graduate   \n",
       "2  Female   22               13.12               6              40  graduate   \n",
       "3  Female   25               13.12              77             562  graduate   \n",
       "4  Female   33               13.94              40             366  graduate   \n",
       "\n",
       "   product_code                                             review  \\\n",
       "0           453  When it comes to a DM's screen, the space on t...   \n",
       "1           466  An Open Letter to GaleForce9*:\\n\\nYour unpaint...   \n",
       "2           254  Nice art, nice printing.  Why two panels are f...   \n",
       "3           263  Amazing buy! Bought it as a gift for our new d...   \n",
       "4           291  As my review of GF9's previous screens these w...   \n",
       "\n",
       "                                             summary  \n",
       "0  The fact that 50% of this space is wasted on a...  \n",
       "1  Another worthless Dungeon Master's screen from...  \n",
       "2                    pretty, but also pretty useless  \n",
       "3                                         Five Stars  \n",
       "4                                         Money trap  "
      ]
     },
     "execution_count": 9,
     "metadata": {},
     "output_type": "execute_result"
    }
   ],
   "source": [
    "# Import new CSV file with Pandas.\n",
    "reviews_fnl = pd.read_csv('reviews_final.csv', index_col=0)\n",
    "\n",
    "# View DataFrame.\n",
    "reviews_fnl.head()"
   ]
  },
  {
   "cell_type": "code",
   "execution_count": 10,
   "id": "0598df7f",
   "metadata": {},
   "outputs": [
    {
     "name": "stdout",
     "output_type": "stream",
     "text": [
      "(2000, 9)\n",
      "<class 'pandas.core.frame.DataFrame'>\n",
      "Int64Index: 2000 entries, 0 to 1999\n",
      "Data columns (total 9 columns):\n",
      " #   Column              Non-Null Count  Dtype  \n",
      "---  ------              --------------  -----  \n",
      " 0   gender              2000 non-null   object \n",
      " 1   age                 2000 non-null   int64  \n",
      " 2   annual_income (k£)  2000 non-null   float64\n",
      " 3   spending_score      2000 non-null   int64  \n",
      " 4   loyalty_points      2000 non-null   int64  \n",
      " 5   education           2000 non-null   object \n",
      " 6   product_code        2000 non-null   int64  \n",
      " 7   review              2000 non-null   object \n",
      " 8   summary             2000 non-null   object \n",
      "dtypes: float64(1), int64(4), object(4)\n",
      "memory usage: 156.2+ KB\n",
      "None\n"
     ]
    }
   ],
   "source": [
    "# Sense-check the DataFrame (e.g. shape, metadata)\n",
    "print(reviews_fnl.shape)\n",
    "print(reviews_fnl.info())"
   ]
  },
  {
   "cell_type": "code",
   "execution_count": 11,
   "id": "5eb11f06",
   "metadata": {},
   "outputs": [
    {
     "data": {
      "text/plain": [
       "gender                0\n",
       "age                   0\n",
       "annual_income (k£)    0\n",
       "spending_score        0\n",
       "loyalty_points        0\n",
       "education             0\n",
       "product_code          0\n",
       "review                0\n",
       "summary               0\n",
       "dtype: int64"
      ]
     },
     "execution_count": 11,
     "metadata": {},
     "output_type": "execute_result"
    }
   ],
   "source": [
    "# Any missing values?\n",
    "reviews_fnl.isnull().sum()"
   ]
  },
  {
   "cell_type": "markdown",
   "id": "3bdd7d5f-2501-4e3e-895c-4a02602e078a",
   "metadata": {},
   "source": [
    "## 5. Linear regression"
   ]
  },
  {
   "cell_type": "markdown",
   "id": "97a7f47e",
   "metadata": {},
   "source": [
    "### 5a) spending score vs loyalty points"
   ]
  },
  {
   "cell_type": "code",
   "execution_count": 12,
   "id": "75863d52-79df-4200-b044-5542db990fb9",
   "metadata": {},
   "outputs": [
    {
     "data": {
      "text/html": [
       "<table class=\"simpletable\">\n",
       "<caption>OLS Regression Results</caption>\n",
       "<tr>\n",
       "  <th>Dep. Variable:</th>         <td>y_sslp</td>      <th>  R-squared:         </th> <td>   0.452</td> \n",
       "</tr>\n",
       "<tr>\n",
       "  <th>Model:</th>                   <td>OLS</td>       <th>  Adj. R-squared:    </th> <td>   0.452</td> \n",
       "</tr>\n",
       "<tr>\n",
       "  <th>Method:</th>             <td>Least Squares</td>  <th>  F-statistic:       </th> <td>   1648.</td> \n",
       "</tr>\n",
       "<tr>\n",
       "  <th>Date:</th>             <td>Sun, 13 Nov 2022</td> <th>  Prob (F-statistic):</th> <td>2.92e-263</td>\n",
       "</tr>\n",
       "<tr>\n",
       "  <th>Time:</th>                 <td>17:07:42</td>     <th>  Log-Likelihood:    </th> <td> -16550.</td> \n",
       "</tr>\n",
       "<tr>\n",
       "  <th>No. Observations:</th>      <td>  2000</td>      <th>  AIC:               </th> <td>3.310e+04</td>\n",
       "</tr>\n",
       "<tr>\n",
       "  <th>Df Residuals:</th>          <td>  1998</td>      <th>  BIC:               </th> <td>3.312e+04</td>\n",
       "</tr>\n",
       "<tr>\n",
       "  <th>Df Model:</th>              <td>     1</td>      <th>                     </th>     <td> </td>    \n",
       "</tr>\n",
       "<tr>\n",
       "  <th>Covariance Type:</th>      <td>nonrobust</td>    <th>                     </th>     <td> </td>    \n",
       "</tr>\n",
       "</table>\n",
       "<table class=\"simpletable\">\n",
       "<tr>\n",
       "      <td></td>         <th>coef</th>     <th>std err</th>      <th>t</th>      <th>P>|t|</th>  <th>[0.025</th>    <th>0.975]</th>  \n",
       "</tr>\n",
       "<tr>\n",
       "  <th>Intercept</th> <td>  -75.0527</td> <td>   45.931</td> <td>   -1.634</td> <td> 0.102</td> <td> -165.129</td> <td>   15.024</td>\n",
       "</tr>\n",
       "<tr>\n",
       "  <th>x_sslp</th>    <td>   33.0617</td> <td>    0.814</td> <td>   40.595</td> <td> 0.000</td> <td>   31.464</td> <td>   34.659</td>\n",
       "</tr>\n",
       "</table>\n",
       "<table class=\"simpletable\">\n",
       "<tr>\n",
       "  <th>Omnibus:</th>       <td>126.554</td> <th>  Durbin-Watson:     </th> <td>   1.191</td>\n",
       "</tr>\n",
       "<tr>\n",
       "  <th>Prob(Omnibus):</th> <td> 0.000</td>  <th>  Jarque-Bera (JB):  </th> <td> 260.528</td>\n",
       "</tr>\n",
       "<tr>\n",
       "  <th>Skew:</th>          <td> 0.422</td>  <th>  Prob(JB):          </th> <td>2.67e-57</td>\n",
       "</tr>\n",
       "<tr>\n",
       "  <th>Kurtosis:</th>      <td> 4.554</td>  <th>  Cond. No.          </th> <td>    122.</td>\n",
       "</tr>\n",
       "</table><br/><br/>Notes:<br/>[1] Standard Errors assume that the covariance matrix of the errors is correctly specified."
      ],
      "text/plain": [
       "<class 'statsmodels.iolib.summary.Summary'>\n",
       "\"\"\"\n",
       "                            OLS Regression Results                            \n",
       "==============================================================================\n",
       "Dep. Variable:                 y_sslp   R-squared:                       0.452\n",
       "Model:                            OLS   Adj. R-squared:                  0.452\n",
       "Method:                 Least Squares   F-statistic:                     1648.\n",
       "Date:                Sun, 13 Nov 2022   Prob (F-statistic):          2.92e-263\n",
       "Time:                        17:07:42   Log-Likelihood:                -16550.\n",
       "No. Observations:                2000   AIC:                         3.310e+04\n",
       "Df Residuals:                    1998   BIC:                         3.312e+04\n",
       "Df Model:                           1                                         \n",
       "Covariance Type:            nonrobust                                         \n",
       "==============================================================================\n",
       "                 coef    std err          t      P>|t|      [0.025      0.975]\n",
       "------------------------------------------------------------------------------\n",
       "Intercept    -75.0527     45.931     -1.634      0.102    -165.129      15.024\n",
       "x_sslp        33.0617      0.814     40.595      0.000      31.464      34.659\n",
       "==============================================================================\n",
       "Omnibus:                      126.554   Durbin-Watson:                   1.191\n",
       "Prob(Omnibus):                  0.000   Jarque-Bera (JB):              260.528\n",
       "Skew:                           0.422   Prob(JB):                     2.67e-57\n",
       "Kurtosis:                       4.554   Cond. No.                         122.\n",
       "==============================================================================\n",
       "\n",
       "Notes:\n",
       "[1] Standard Errors assume that the covariance matrix of the errors is correctly specified.\n",
       "\"\"\""
      ]
     },
     "execution_count": 12,
     "metadata": {},
     "output_type": "execute_result"
    }
   ],
   "source": [
    "# Independent variable.\n",
    "x_sslp = reviews_fnl['spending_score']\n",
    "\n",
    "# Dependent variable.\n",
    "y_sslp = reviews_fnl['loyalty_points']\n",
    "\n",
    "# OLS model and summary.\n",
    "f_sslp = 'y_sslp ~ x_sslp'\n",
    "test_sslp = ols(f_sslp, data=reviews_fnl).fit()\n",
    "test_sslp.summary()"
   ]
  },
  {
   "cell_type": "code",
   "execution_count": 13,
   "id": "22a55354",
   "metadata": {},
   "outputs": [
    {
     "name": "stdout",
     "output_type": "stream",
     "text": [
      "Estimated parameters:\n",
      " Intercept   -75.052663\n",
      "x_sslp       33.061693\n",
      "dtype: float64\n",
      "\n",
      "Standard errors:\n",
      " Intercept    45.930554\n",
      "x_sslp        0.814419\n",
      "dtype: float64\n",
      "\n",
      "Predicted values:\n",
      " [1214.35337415 2602.94449102  123.31749662 ... 2933.56142361  453.93442921\n",
      "  189.44088314]\n"
     ]
    }
   ],
   "source": [
    "# Extract the estimated parameters.\n",
    "print('Estimated parameters:\\n', test_sslp.params)\n",
    "\n",
    "# Extract the standard errors.\n",
    "print('\\nStandard errors:\\n', test_sslp.bse)\n",
    "\n",
    "# Extract the predicted values.\n",
    "print('\\nPredicted values:\\n', test_sslp.predict())"
   ]
  },
  {
   "cell_type": "code",
   "execution_count": 14,
   "id": "9798e427",
   "metadata": {},
   "outputs": [
    {
     "data": {
      "text/plain": [
       "0       1214.353364\n",
       "1       2602.944470\n",
       "2        123.317495\n",
       "3       2470.697698\n",
       "4       1247.415057\n",
       "           ...     \n",
       "1995    2206.204154\n",
       "1996     189.440881\n",
       "1997    2933.561400\n",
       "1998     453.934425\n",
       "1999     189.440881\n",
       "Name: spending_score, Length: 2000, dtype: float64"
      ]
     },
     "execution_count": 14,
     "metadata": {},
     "output_type": "execute_result"
    }
   ],
   "source": [
    "# Set the X coefficient and the constant to generate the regression table.\n",
    "x_coef_sslp = 33.061693\n",
    "const_sslp = (-75.052663)\n",
    "y_pred_sslp = const_sslp + x_coef_sslp * x_sslp\n",
    "\n",
    "# View the output.\n",
    "y_pred_sslp"
   ]
  },
  {
   "cell_type": "code",
   "execution_count": 15,
   "id": "f0dde67a",
   "metadata": {},
   "outputs": [
    {
     "data": {
      "image/png": "[encoded data removed]",
      "text/plain": [
       "<Figure size 432x288 with 1 Axes>"
      ]
     },
     "metadata": {
      "needs_background": "light"
     },
     "output_type": "display_data"
    }
   ],
   "source": [
    "# Plot the graph with a regression line.\n",
    "plt.scatter(x_sslp, y_sslp)\n",
    "\n",
    "plt.plot(x_sslp, y_pred_sslp, color='red')\n",
    "\n",
    "plt.xlim(0)\n",
    "plt.ylim(0)\n",
    "\n",
    "# View the plot.\n",
    "plt.show()"
   ]
  },
  {
   "cell_type": "code",
   "execution_count": 16,
   "id": "709e3fb7",
   "metadata": {},
   "outputs": [
    {
     "name": "stdout",
     "output_type": "stream",
     "text": [
      "{'LM stat': 629.9823360215912, 'LM Test p-value': 5.042699614942239e-139, 'F-stat': 918.7507142907729, 'F-test p-value': 2.3037887924497478e-166}\n"
     ]
    }
   ],
   "source": [
    "# Check for heteroscedasticity:\n",
    "# Run the Breusch-Pagan test function on the model residuals and x-variables.\n",
    "test_sslp = sms.het_breuschpagan(test_sslp.resid, test_sslp.model.exog)\n",
    "\n",
    "# Print the results of the Breusch-Pagan test.\n",
    "terms_sslp = ['LM stat', 'LM Test p-value', 'F-stat', 'F-test p-value']\n",
    "print(dict(zip(terms_sslp, test_sslp)))\n",
    "\n",
    "# LM Test p-value = 5.042699614942239e-139 < 0.05 => we fail to accept the H0\n",
    "# (the residuals are distributed with equal variance), and assume that heteroscedasticity \n",
    "# is present."
   ]
  },
  {
   "cell_type": "markdown",
   "id": "ad3b27cb",
   "metadata": {},
   "source": [
    "**Reduce heteroscedasticity:**\n",
    "\n",
    "**a) perform a log transformation on the dependent variable (y = loyalty_points):**"
   ]
  },
  {
   "cell_type": "code",
   "execution_count": 17,
   "id": "486d144e",
   "metadata": {},
   "outputs": [
    {
     "data": {
      "text/html": [
       "<div>\n",
       "<style scoped>\n",
       "    .dataframe tbody tr th:only-of-type {\n",
       "        vertical-align: middle;\n",
       "    }\n",
       "\n",
       "    .dataframe tbody tr th {\n",
       "        vertical-align: top;\n",
       "    }\n",
       "\n",
       "    .dataframe thead th {\n",
       "        text-align: right;\n",
       "    }\n",
       "</style>\n",
       "<table border=\"1\" class=\"dataframe\">\n",
       "  <thead>\n",
       "    <tr style=\"text-align: right;\">\n",
       "      <th></th>\n",
       "      <th>gender</th>\n",
       "      <th>age</th>\n",
       "      <th>annual_income (k£)</th>\n",
       "      <th>spending_score</th>\n",
       "      <th>loyalty_points</th>\n",
       "      <th>education</th>\n",
       "      <th>product_code</th>\n",
       "      <th>review</th>\n",
       "      <th>summary</th>\n",
       "      <th>loyalty_points_log10</th>\n",
       "    </tr>\n",
       "  </thead>\n",
       "  <tbody>\n",
       "    <tr>\n",
       "      <th>0</th>\n",
       "      <td>Male</td>\n",
       "      <td>18</td>\n",
       "      <td>12.30</td>\n",
       "      <td>39</td>\n",
       "      <td>210</td>\n",
       "      <td>graduate</td>\n",
       "      <td>453</td>\n",
       "      <td>When it comes to a DM's screen, the space on t...</td>\n",
       "      <td>The fact that 50% of this space is wasted on a...</td>\n",
       "      <td>2.322219</td>\n",
       "    </tr>\n",
       "    <tr>\n",
       "      <th>1</th>\n",
       "      <td>Male</td>\n",
       "      <td>23</td>\n",
       "      <td>12.30</td>\n",
       "      <td>81</td>\n",
       "      <td>524</td>\n",
       "      <td>graduate</td>\n",
       "      <td>466</td>\n",
       "      <td>An Open Letter to GaleForce9*:\\n\\nYour unpaint...</td>\n",
       "      <td>Another worthless Dungeon Master's screen from...</td>\n",
       "      <td>2.719331</td>\n",
       "    </tr>\n",
       "    <tr>\n",
       "      <th>2</th>\n",
       "      <td>Female</td>\n",
       "      <td>22</td>\n",
       "      <td>13.12</td>\n",
       "      <td>6</td>\n",
       "      <td>40</td>\n",
       "      <td>graduate</td>\n",
       "      <td>254</td>\n",
       "      <td>Nice art, nice printing.  Why two panels are f...</td>\n",
       "      <td>pretty, but also pretty useless</td>\n",
       "      <td>1.602060</td>\n",
       "    </tr>\n",
       "    <tr>\n",
       "      <th>3</th>\n",
       "      <td>Female</td>\n",
       "      <td>25</td>\n",
       "      <td>13.12</td>\n",
       "      <td>77</td>\n",
       "      <td>562</td>\n",
       "      <td>graduate</td>\n",
       "      <td>263</td>\n",
       "      <td>Amazing buy! Bought it as a gift for our new d...</td>\n",
       "      <td>Five Stars</td>\n",
       "      <td>2.749736</td>\n",
       "    </tr>\n",
       "    <tr>\n",
       "      <th>4</th>\n",
       "      <td>Female</td>\n",
       "      <td>33</td>\n",
       "      <td>13.94</td>\n",
       "      <td>40</td>\n",
       "      <td>366</td>\n",
       "      <td>graduate</td>\n",
       "      <td>291</td>\n",
       "      <td>As my review of GF9's previous screens these w...</td>\n",
       "      <td>Money trap</td>\n",
       "      <td>2.563481</td>\n",
       "    </tr>\n",
       "  </tbody>\n",
       "</table>\n",
       "</div>"
      ],
      "text/plain": [
       "   gender  age  annual_income (k£)  spending_score  loyalty_points education  \\\n",
       "0    Male   18               12.30              39             210  graduate   \n",
       "1    Male   23               12.30              81             524  graduate   \n",
       "2  Female   22               13.12               6              40  graduate   \n",
       "3  Female   25               13.12              77             562  graduate   \n",
       "4  Female   33               13.94              40             366  graduate   \n",
       "\n",
       "   product_code                                             review  \\\n",
       "0           453  When it comes to a DM's screen, the space on t...   \n",
       "1           466  An Open Letter to GaleForce9*:\\n\\nYour unpaint...   \n",
       "2           254  Nice art, nice printing.  Why two panels are f...   \n",
       "3           263  Amazing buy! Bought it as a gift for our new d...   \n",
       "4           291  As my review of GF9's previous screens these w...   \n",
       "\n",
       "                                             summary  loyalty_points_log10  \n",
       "0  The fact that 50% of this space is wasted on a...              2.322219  \n",
       "1  Another worthless Dungeon Master's screen from...              2.719331  \n",
       "2                    pretty, but also pretty useless              1.602060  \n",
       "3                                         Five Stars              2.749736  \n",
       "4                                         Money trap              2.563481  "
      ]
     },
     "execution_count": 17,
     "metadata": {},
     "output_type": "execute_result"
    }
   ],
   "source": [
    "# Perform a log transformation on the dependent variable (y = loyalty_points) for reducing \n",
    "# heteroscedasticity. \n",
    "\n",
    "# Add a column to the DataFrame with log10 of the dependent variable (y).\n",
    "reviews_fnl['loyalty_points_log10'] = np.log10(reviews_fnl['loyalty_points'])\n",
    "\n",
    "# View DataFrame.\n",
    "reviews_fnl.head()"
   ]
  },
  {
   "cell_type": "code",
   "execution_count": 18,
   "id": "710640cf",
   "metadata": {},
   "outputs": [
    {
     "data": {
      "text/html": [
       "<table class=\"simpletable\">\n",
       "<caption>OLS Regression Results</caption>\n",
       "<tr>\n",
       "  <th>Dep. Variable:</th>      <td>y_sslp_log10</td>   <th>  R-squared:         </th> <td>   0.519</td> \n",
       "</tr>\n",
       "<tr>\n",
       "  <th>Model:</th>                   <td>OLS</td>       <th>  Adj. R-squared:    </th> <td>   0.518</td> \n",
       "</tr>\n",
       "<tr>\n",
       "  <th>Method:</th>             <td>Least Squares</td>  <th>  F-statistic:       </th> <td>   2153.</td> \n",
       "</tr>\n",
       "<tr>\n",
       "  <th>Date:</th>             <td>Sun, 13 Nov 2022</td> <th>  Prob (F-statistic):</th> <td>1.44e-319</td>\n",
       "</tr>\n",
       "<tr>\n",
       "  <th>Time:</th>                 <td>17:07:42</td>     <th>  Log-Likelihood:    </th> <td> -478.62</td> \n",
       "</tr>\n",
       "<tr>\n",
       "  <th>No. Observations:</th>      <td>  2000</td>      <th>  AIC:               </th> <td>   961.2</td> \n",
       "</tr>\n",
       "<tr>\n",
       "  <th>Df Residuals:</th>          <td>  1998</td>      <th>  BIC:               </th> <td>   972.4</td> \n",
       "</tr>\n",
       "<tr>\n",
       "  <th>Df Model:</th>              <td>     1</td>      <th>                     </th>     <td> </td>    \n",
       "</tr>\n",
       "<tr>\n",
       "  <th>Covariance Type:</th>      <td>nonrobust</td>    <th>                     </th>     <td> </td>    \n",
       "</tr>\n",
       "</table>\n",
       "<table class=\"simpletable\">\n",
       "<tr>\n",
       "      <td></td>         <th>coef</th>     <th>std err</th>      <th>t</th>      <th>P>|t|</th>  <th>[0.025</th>    <th>0.975]</th>  \n",
       "</tr>\n",
       "<tr>\n",
       "  <th>Intercept</th> <td>    2.4207</td> <td>    0.015</td> <td>  162.833</td> <td> 0.000</td> <td>    2.392</td> <td>    2.450</td>\n",
       "</tr>\n",
       "<tr>\n",
       "  <th>x_sslp</th>    <td>    0.0122</td> <td>    0.000</td> <td>   46.400</td> <td> 0.000</td> <td>    0.012</td> <td>    0.013</td>\n",
       "</tr>\n",
       "</table>\n",
       "<table class=\"simpletable\">\n",
       "<tr>\n",
       "  <th>Omnibus:</th>       <td>247.764</td> <th>  Durbin-Watson:     </th> <td>   0.562</td>\n",
       "</tr>\n",
       "<tr>\n",
       "  <th>Prob(Omnibus):</th> <td> 0.000</td>  <th>  Jarque-Bera (JB):  </th> <td> 344.804</td>\n",
       "</tr>\n",
       "<tr>\n",
       "  <th>Skew:</th>          <td>-1.000</td>  <th>  Prob(JB):          </th> <td>1.34e-75</td>\n",
       "</tr>\n",
       "<tr>\n",
       "  <th>Kurtosis:</th>      <td> 3.366</td>  <th>  Cond. No.          </th> <td>    122.</td>\n",
       "</tr>\n",
       "</table><br/><br/>Notes:<br/>[1] Standard Errors assume that the covariance matrix of the errors is correctly specified."
      ],
      "text/plain": [
       "<class 'statsmodels.iolib.summary.Summary'>\n",
       "\"\"\"\n",
       "                            OLS Regression Results                            \n",
       "==============================================================================\n",
       "Dep. Variable:           y_sslp_log10   R-squared:                       0.519\n",
       "Model:                            OLS   Adj. R-squared:                  0.518\n",
       "Method:                 Least Squares   F-statistic:                     2153.\n",
       "Date:                Sun, 13 Nov 2022   Prob (F-statistic):          1.44e-319\n",
       "Time:                        17:07:42   Log-Likelihood:                -478.62\n",
       "No. Observations:                2000   AIC:                             961.2\n",
       "Df Residuals:                    1998   BIC:                             972.4\n",
       "Df Model:                           1                                         \n",
       "Covariance Type:            nonrobust                                         \n",
       "==============================================================================\n",
       "                 coef    std err          t      P>|t|      [0.025      0.975]\n",
       "------------------------------------------------------------------------------\n",
       "Intercept      2.4207      0.015    162.833      0.000       2.392       2.450\n",
       "x_sslp         0.0122      0.000     46.400      0.000       0.012       0.013\n",
       "==============================================================================\n",
       "Omnibus:                      247.764   Durbin-Watson:                   0.562\n",
       "Prob(Omnibus):                  0.000   Jarque-Bera (JB):              344.804\n",
       "Skew:                          -1.000   Prob(JB):                     1.34e-75\n",
       "Kurtosis:                       3.366   Cond. No.                         122.\n",
       "==============================================================================\n",
       "\n",
       "Notes:\n",
       "[1] Standard Errors assume that the covariance matrix of the errors is correctly specified.\n",
       "\"\"\""
      ]
     },
     "execution_count": 18,
     "metadata": {},
     "output_type": "execute_result"
    }
   ],
   "source": [
    "# Independent variable.\n",
    "x_sslp = reviews_fnl['spending_score']\n",
    "\n",
    "# Dependent variable.\n",
    "y_sslp_log10 = reviews_fnl['loyalty_points_log10']\n",
    "\n",
    "# OLS model and summary.\n",
    "f_sslp_log10 = 'y_sslp_log10 ~ x_sslp'\n",
    "test_sslp_log10 = ols(f_sslp_log10, data=reviews_fnl).fit()\n",
    "test_sslp_log10.summary()"
   ]
  },
  {
   "cell_type": "code",
   "execution_count": 19,
   "id": "e631888a",
   "metadata": {},
   "outputs": [
    {
     "data": {
      "text/plain": [
       "0       2.8965\n",
       "1       3.4089\n",
       "2       2.4939\n",
       "3       3.3601\n",
       "4       2.9087\n",
       "         ...  \n",
       "1995    3.2625\n",
       "1996    2.5183\n",
       "1997    3.5309\n",
       "1998    2.6159\n",
       "1999    2.5183\n",
       "Name: spending_score, Length: 2000, dtype: float64"
      ]
     },
     "execution_count": 19,
     "metadata": {},
     "output_type": "execute_result"
    }
   ],
   "source": [
    "# Set the X coefficient and the constant to generate the regression table.\n",
    "x_coef_sslp_log10 = 0.0122\n",
    "const_sslp_log10 = 2.4207\n",
    "y_pred_sslp_log10 = const_sslp_log10 + x_coef_sslp_log10 * x_sslp\n",
    "\n",
    "# View the output.\n",
    "y_pred_sslp_log10"
   ]
  },
  {
   "cell_type": "code",
   "execution_count": 20,
   "id": "94ecb8f0",
   "metadata": {},
   "outputs": [
    {
     "data": {
      "image/png": "[encoded data removed]",
      "text/plain": [
       "<Figure size 432x288 with 1 Axes>"
      ]
     },
     "metadata": {
      "needs_background": "light"
     },
     "output_type": "display_data"
    }
   ],
   "source": [
    "# Plot the graph with a regression line.\n",
    "plt.scatter(x_sslp, y_sslp_log10)\n",
    "\n",
    "plt.plot(x_sslp, y_pred_sslp_log10, color='red')\n",
    "\n",
    "plt.xlim(0)\n",
    "plt.ylim(0)\n",
    "\n",
    "# View the plot.\n",
    "plt.show()"
   ]
  },
  {
   "cell_type": "code",
   "execution_count": 21,
   "id": "72867a37",
   "metadata": {},
   "outputs": [
    {
     "name": "stdout",
     "output_type": "stream",
     "text": [
      "{'LM stat': 92.45116941985287, 'LM Test p-value': 6.900660585139142e-22, 'F-stat': 96.83497142491899, 'F-test p-value': 2.404357715981202e-22}\n"
     ]
    }
   ],
   "source": [
    "# Check for heteroscedasticity:\n",
    "# Run the Breusch-Pagan test function on the model residuals and x-variables.\n",
    "test_sslp_log10 = sms.het_breuschpagan(test_sslp_log10.resid, test_sslp_log10.model.exog)\n",
    "\n",
    "# Print the results of the Breusch-Pagan test.\n",
    "terms_sslp_log10 = ['LM stat', 'LM Test p-value', 'F-stat', 'F-test p-value']\n",
    "print(dict(zip(terms_sslp_log10, test_sslp_log10)))\n",
    "\n",
    "# LM Test p-value = 6.900660585139142e-22 < 0.05 => we fail to accept the H0\n",
    "# (the residuals are distributed with equal variance), and assume that heteroscedasticity \n",
    "# is present."
   ]
  },
  {
   "cell_type": "markdown",
   "id": "4c52a64c",
   "metadata": {},
   "source": [
    "**b) fit Weighted Least Squares (WLS) model; use weight = 1/(y_pred_sslp squared):**"
   ]
  },
  {
   "cell_type": "code",
   "execution_count": 22,
   "id": "d22747b8",
   "metadata": {},
   "outputs": [
    {
     "name": "stdout",
     "output_type": "stream",
     "text": [
      "                            WLS Regression Results                            \n",
      "==============================================================================\n",
      "Dep. Variable:         loyalty_points   R-squared:                       0.738\n",
      "Model:                            WLS   Adj. R-squared:                  0.738\n",
      "Method:                 Least Squares   F-statistic:                     5635.\n",
      "Date:                Sun, 13 Nov 2022   Prob (F-statistic):               0.00\n",
      "Time:                        17:07:42   Log-Likelihood:                -15853.\n",
      "No. Observations:                2000   AIC:                         3.171e+04\n",
      "Df Residuals:                    1998   BIC:                         3.172e+04\n",
      "Df Model:                           1                                         \n",
      "Covariance Type:            nonrobust                                         \n",
      "==================================================================================\n",
      "                     coef    std err          t      P>|t|      [0.025      0.975]\n",
      "----------------------------------------------------------------------------------\n",
      "const            -41.7654      3.140    -13.301      0.000     -47.923     -35.608\n",
      "spending_score    32.8255      0.437     75.069      0.000      31.968      33.683\n",
      "==============================================================================\n",
      "Omnibus:                      100.770   Durbin-Watson:                   0.346\n",
      "Prob(Omnibus):                  0.000   Jarque-Bera (JB):              112.410\n",
      "Skew:                           0.567   Prob(JB):                     3.89e-25\n",
      "Kurtosis:                       2.746   Cond. No.                         8.82\n",
      "==============================================================================\n",
      "\n",
      "Notes:\n",
      "[1] Standard Errors assume that the covariance matrix of the errors is correctly specified.\n"
     ]
    }
   ],
   "source": [
    "# Fit Weighted Least Squares (WLS) model.\n",
    "# Define weights to use (= 1/(y_pred_sslp squared)).\n",
    "wt = 1 / ols(f_sslp, data=reviews_fnl).fit().fittedvalues**2\n",
    "\n",
    "X = sm.add_constant(x_sslp)\n",
    "\n",
    "test_sslp_wls = sm.WLS(y_sslp, X, weights=wt).fit()\n",
    "\n",
    "# View WLS summary.\n",
    "print(test_sslp_wls.summary())"
   ]
  },
  {
   "cell_type": "code",
   "execution_count": 23,
   "id": "fe51cab5",
   "metadata": {},
   "outputs": [
    {
     "name": "stdout",
     "output_type": "stream",
     "text": [
      "{'LM stat': 636.1329189315552, 'LM Test p-value': 2.3172764822918004e-140, 'F-stat': 931.9042813391748, 'F-test p-value': 2.5596122299055524e-168}\n"
     ]
    }
   ],
   "source": [
    "# Check for heteroscedasticity:\n",
    "# Run the Breusch-Pagan test function on the model residuals and x-variables.\n",
    "test_sslp_wls = sms.het_breuschpagan(test_sslp_wls.resid, test_sslp_wls.model.exog)\n",
    "\n",
    "# Print the results of the Breusch-Pagan test.\n",
    "terms_sslp_wls = ['LM stat', 'LM Test p-value', 'F-stat', 'F-test p-value']\n",
    "print(dict(zip(terms_sslp_wls, test_sslp_wls)))\n",
    "\n",
    "# LM Test p-value = 2.3172764822918004e-140 < 0.05 => we fail to accept the H0\n",
    "# (the residuals are distributed with equal variance), and assume that heteroscedasticity \n",
    "# is present."
   ]
  },
  {
   "cell_type": "markdown",
   "id": "e1ac6b6b",
   "metadata": {},
   "source": [
    "**c) fit Weighted Least Squares (WLS) model; use weight = 1/(x_sslp squared):**"
   ]
  },
  {
   "cell_type": "code",
   "execution_count": 24,
   "id": "d4a31c5f",
   "metadata": {},
   "outputs": [
    {
     "name": "stdout",
     "output_type": "stream",
     "text": [
      "                            WLS Regression Results                            \n",
      "==============================================================================\n",
      "Dep. Variable:         loyalty_points   R-squared:                       0.758\n",
      "Model:                            WLS   Adj. R-squared:                  0.758\n",
      "Method:                 Least Squares   F-statistic:                     6269.\n",
      "Date:                Sun, 13 Nov 2022   Prob (F-statistic):               0.00\n",
      "Time:                        17:07:42   Log-Likelihood:                -15770.\n",
      "No. Observations:                2000   AIC:                         3.154e+04\n",
      "Df Residuals:                    1998   BIC:                         3.156e+04\n",
      "Df Model:                           1                                         \n",
      "Covariance Type:            nonrobust                                         \n",
      "==================================================================================\n",
      "                     coef    std err          t      P>|t|      [0.025      0.975]\n",
      "----------------------------------------------------------------------------------\n",
      "const              3.1995      3.683      0.869      0.385      -4.024      10.423\n",
      "spending_score    31.5948      0.399     79.176      0.000      30.812      32.377\n",
      "==============================================================================\n",
      "Omnibus:                       94.443   Durbin-Watson:                   0.241\n",
      "Prob(Omnibus):                  0.000   Jarque-Bera (JB):               93.316\n",
      "Skew:                           0.486   Prob(JB):                     5.45e-21\n",
      "Kurtosis:                       2.583   Cond. No.                         10.1\n",
      "==============================================================================\n",
      "\n",
      "Notes:\n",
      "[1] Standard Errors assume that the covariance matrix of the errors is correctly specified.\n"
     ]
    }
   ],
   "source": [
    "# Fit Weighted Least Squares (WLS) Model.\n",
    "# Define weights to use (= 1/(x_sslp squared)).\n",
    "x_sslp_wt = reviews_fnl['spending_score']**2\n",
    "wt = 1 / x_sslp_wt\n",
    "\n",
    "X = sm.add_constant(x_sslp)\n",
    "\n",
    "test_sslp_wls1 = sm.WLS(y_sslp, X, weights=wt).fit()\n",
    "\n",
    "# View WLS summary.\n",
    "print(test_sslp_wls1.summary())"
   ]
  },
  {
   "cell_type": "code",
   "execution_count": 25,
   "id": "b0a96091",
   "metadata": {},
   "outputs": [
    {
     "name": "stdout",
     "output_type": "stream",
     "text": [
      "{'LM stat': 628.0402441854413, 'LM Test p-value': 1.3336790126857622e-138, 'F-stat': 914.6218776202358, 'F-test p-value': 9.499513579477449e-166}\n"
     ]
    }
   ],
   "source": [
    "# Check for heteroscedasticity:\n",
    "# Run the Breusch-Pagan test function on the model residuals and x-variables.\n",
    "test_sslp_wls1 = sms.het_breuschpagan(test_sslp_wls1.resid, test_sslp_wls1.model.exog)\n",
    "\n",
    "# Print the results of the Breusch-Pagan test.\n",
    "terms_sslp_wls1 = ['LM stat', 'LM Test p-value', 'F-stat', 'F-test p-value']\n",
    "print(dict(zip(terms_sslp_wls1, test_sslp_wls1)))\n",
    "\n",
    "# LM Test p-value = 1.3336790126857622e-138 < 0.05 => we fail to accept the H0\n",
    "# (the residuals are distributed with equal variance), and assume that heteroscedasticity \n",
    "# is present."
   ]
  },
  {
   "cell_type": "markdown",
   "id": "dace174f",
   "metadata": {},
   "source": [
    "**d) split reviews_fnl DataFrame by selecting rows with spending score values <= 60 and fit OLS model again:**"
   ]
  },
  {
   "cell_type": "code",
   "execution_count": 26,
   "id": "e9b625ad",
   "metadata": {},
   "outputs": [
    {
     "name": "stdout",
     "output_type": "stream",
     "text": [
      "<class 'pandas.core.frame.DataFrame'>\n",
      "RangeIndex: 1367 entries, 0 to 1366\n",
      "Data columns (total 11 columns):\n",
      " #   Column                Non-Null Count  Dtype  \n",
      "---  ------                --------------  -----  \n",
      " 0   index                 1367 non-null   int64  \n",
      " 1   gender                1367 non-null   object \n",
      " 2   age                   1367 non-null   int64  \n",
      " 3   annual_income (k£)    1367 non-null   float64\n",
      " 4   spending_score        1367 non-null   int64  \n",
      " 5   loyalty_points        1367 non-null   int64  \n",
      " 6   education             1367 non-null   object \n",
      " 7   product_code          1367 non-null   int64  \n",
      " 8   review                1367 non-null   object \n",
      " 9   summary               1367 non-null   object \n",
      " 10  loyalty_points_log10  1367 non-null   float64\n",
      "dtypes: float64(2), int64(5), object(4)\n",
      "memory usage: 117.6+ KB\n"
     ]
    }
   ],
   "source": [
    "# Select rows with spending score values <= 60 from reviews_fnl DataFrame.\n",
    "reviews_fnl_60 = reviews_fnl[reviews_fnl['spending_score'] <= 60].reset_index()\n",
    "\n",
    "# View DataFrame (1367 entries included out of 2000 entries in reviews_fnl DataFrame).\n",
    "reviews_fnl_60.info()"
   ]
  },
  {
   "cell_type": "code",
   "execution_count": 27,
   "id": "e476b5ff",
   "metadata": {},
   "outputs": [
    {
     "data": {
      "text/html": [
       "<table class=\"simpletable\">\n",
       "<caption>OLS Regression Results</caption>\n",
       "<tr>\n",
       "  <th>Dep. Variable:</th>        <td>y_sslp_60</td>    <th>  R-squared:         </th> <td>   0.601</td> \n",
       "</tr>\n",
       "<tr>\n",
       "  <th>Model:</th>                   <td>OLS</td>       <th>  Adj. R-squared:    </th> <td>   0.601</td> \n",
       "</tr>\n",
       "<tr>\n",
       "  <th>Method:</th>             <td>Least Squares</td>  <th>  F-statistic:       </th> <td>   2055.</td> \n",
       "</tr>\n",
       "<tr>\n",
       "  <th>Date:</th>             <td>Sun, 13 Nov 2022</td> <th>  Prob (F-statistic):</th> <td>1.74e-274</td>\n",
       "</tr>\n",
       "<tr>\n",
       "  <th>Time:</th>                 <td>17:07:43</td>     <th>  Log-Likelihood:    </th> <td> -10015.</td> \n",
       "</tr>\n",
       "<tr>\n",
       "  <th>No. Observations:</th>      <td>  1367</td>      <th>  AIC:               </th> <td>2.003e+04</td>\n",
       "</tr>\n",
       "<tr>\n",
       "  <th>Df Residuals:</th>          <td>  1365</td>      <th>  BIC:               </th> <td>2.005e+04</td>\n",
       "</tr>\n",
       "<tr>\n",
       "  <th>Df Model:</th>              <td>     1</td>      <th>                     </th>     <td> </td>    \n",
       "</tr>\n",
       "<tr>\n",
       "  <th>Covariance Type:</th>      <td>nonrobust</td>    <th>                     </th>     <td> </td>    \n",
       "</tr>\n",
       "</table>\n",
       "<table class=\"simpletable\">\n",
       "<tr>\n",
       "      <td></td>         <th>coef</th>     <th>std err</th>      <th>t</th>      <th>P>|t|</th>  <th>[0.025</th>    <th>0.975]</th>  \n",
       "</tr>\n",
       "<tr>\n",
       "  <th>Intercept</th> <td>  157.8290</td> <td>   22.483</td> <td>    7.020</td> <td> 0.000</td> <td>  113.725</td> <td>  201.933</td>\n",
       "</tr>\n",
       "<tr>\n",
       "  <th>x_sslp_60</th> <td>   25.5150</td> <td>    0.563</td> <td>   45.327</td> <td> 0.000</td> <td>   24.411</td> <td>   26.619</td>\n",
       "</tr>\n",
       "</table>\n",
       "<table class=\"simpletable\">\n",
       "<tr>\n",
       "  <th>Omnibus:</th>       <td>29.904</td> <th>  Durbin-Watson:     </th> <td>   0.918</td>\n",
       "</tr>\n",
       "<tr>\n",
       "  <th>Prob(Omnibus):</th> <td> 0.000</td> <th>  Jarque-Bera (JB):  </th> <td>  32.134</td>\n",
       "</tr>\n",
       "<tr>\n",
       "  <th>Skew:</th>          <td> 0.335</td> <th>  Prob(JB):          </th> <td>1.05e-07</td>\n",
       "</tr>\n",
       "<tr>\n",
       "  <th>Kurtosis:</th>      <td> 3.340</td> <th>  Cond. No.          </th> <td>    90.2</td>\n",
       "</tr>\n",
       "</table><br/><br/>Notes:<br/>[1] Standard Errors assume that the covariance matrix of the errors is correctly specified."
      ],
      "text/plain": [
       "<class 'statsmodels.iolib.summary.Summary'>\n",
       "\"\"\"\n",
       "                            OLS Regression Results                            \n",
       "==============================================================================\n",
       "Dep. Variable:              y_sslp_60   R-squared:                       0.601\n",
       "Model:                            OLS   Adj. R-squared:                  0.601\n",
       "Method:                 Least Squares   F-statistic:                     2055.\n",
       "Date:                Sun, 13 Nov 2022   Prob (F-statistic):          1.74e-274\n",
       "Time:                        17:07:43   Log-Likelihood:                -10015.\n",
       "No. Observations:                1367   AIC:                         2.003e+04\n",
       "Df Residuals:                    1365   BIC:                         2.005e+04\n",
       "Df Model:                           1                                         \n",
       "Covariance Type:            nonrobust                                         \n",
       "==============================================================================\n",
       "                 coef    std err          t      P>|t|      [0.025      0.975]\n",
       "------------------------------------------------------------------------------\n",
       "Intercept    157.8290     22.483      7.020      0.000     113.725     201.933\n",
       "x_sslp_60     25.5150      0.563     45.327      0.000      24.411      26.619\n",
       "==============================================================================\n",
       "Omnibus:                       29.904   Durbin-Watson:                   0.918\n",
       "Prob(Omnibus):                  0.000   Jarque-Bera (JB):               32.134\n",
       "Skew:                           0.335   Prob(JB):                     1.05e-07\n",
       "Kurtosis:                       3.340   Cond. No.                         90.2\n",
       "==============================================================================\n",
       "\n",
       "Notes:\n",
       "[1] Standard Errors assume that the covariance matrix of the errors is correctly specified.\n",
       "\"\"\""
      ]
     },
     "execution_count": 27,
     "metadata": {},
     "output_type": "execute_result"
    }
   ],
   "source": [
    "# Independent variable.\n",
    "x_sslp_60 = reviews_fnl_60['spending_score']\n",
    "\n",
    "# Dependent variable.\n",
    "y_sslp_60 = reviews_fnl_60['loyalty_points']\n",
    "\n",
    "# OLS model and summary.\n",
    "f_sslp_60 = 'y_sslp_60 ~ x_sslp_60'\n",
    "test_sslp_60 = ols(f_sslp_60, data=reviews_fnl_60).fit()\n",
    "test_sslp_60.summary()"
   ]
  },
  {
   "cell_type": "code",
   "execution_count": 28,
   "id": "b183944c",
   "metadata": {},
   "outputs": [
    {
     "name": "stdout",
     "output_type": "stream",
     "text": [
      "{'LM stat': 0.7254432417142823, 'LM Test p-value': 0.3943642106649826, 'F-stat': 0.7247664973644982, 'F-test p-value': 0.39473417092266727}\n"
     ]
    }
   ],
   "source": [
    "# Check for heteroscedasticity:\n",
    "# Run the Breusch-Pagan test function on the model residuals and x-variables.\n",
    "test_sslp_60 = sms.het_breuschpagan(test_sslp_60.resid, test_sslp_60.model.exog)\n",
    "\n",
    "# Print the results of the Breusch-Pagan test.\n",
    "terms_sslp_60 = ['LM stat', 'LM Test p-value', 'F-stat', 'F-test p-value']\n",
    "print(dict(zip(terms_sslp_60, test_sslp_60)))\n",
    "\n",
    "# LM Test p-value = 0.3943642106649826 > 0.05 => we fail to reject the H0\n",
    "# (the residuals are distributed with equal variance), and assume homoscedasticity."
   ]
  },
  {
   "cell_type": "markdown",
   "id": "cd84c825",
   "metadata": {},
   "source": [
    "**e) split reviews_fnl DataFrame by selecting rows with spending score values > 60 and fit OLS model again:**"
   ]
  },
  {
   "cell_type": "code",
   "execution_count": 29,
   "id": "f83d0e22",
   "metadata": {},
   "outputs": [
    {
     "name": "stdout",
     "output_type": "stream",
     "text": [
      "<class 'pandas.core.frame.DataFrame'>\n",
      "RangeIndex: 633 entries, 0 to 632\n",
      "Data columns (total 11 columns):\n",
      " #   Column                Non-Null Count  Dtype  \n",
      "---  ------                --------------  -----  \n",
      " 0   index                 633 non-null    int64  \n",
      " 1   gender                633 non-null    object \n",
      " 2   age                   633 non-null    int64  \n",
      " 3   annual_income (k£)    633 non-null    float64\n",
      " 4   spending_score        633 non-null    int64  \n",
      " 5   loyalty_points        633 non-null    int64  \n",
      " 6   education             633 non-null    object \n",
      " 7   product_code          633 non-null    int64  \n",
      " 8   review                633 non-null    object \n",
      " 9   summary               633 non-null    object \n",
      " 10  loyalty_points_log10  633 non-null    float64\n",
      "dtypes: float64(2), int64(5), object(4)\n",
      "memory usage: 54.5+ KB\n"
     ]
    }
   ],
   "source": [
    "# Select rows with spending score values > 60 from reviews_fnl DataFrame.\n",
    "reviews_fnl_61 = reviews_fnl[reviews_fnl['spending_score'] > 60].reset_index()\n",
    "\n",
    "# View DataFrame (633 entries included out of 2000 entries in reviews_fnl DataFrame).\n",
    "reviews_fnl_61.info()"
   ]
  },
  {
   "cell_type": "code",
   "execution_count": 30,
   "id": "236fe178",
   "metadata": {},
   "outputs": [
    {
     "data": {
      "text/html": [
       "<table class=\"simpletable\">\n",
       "<caption>OLS Regression Results</caption>\n",
       "<tr>\n",
       "  <th>Dep. Variable:</th>        <td>y_sslp_61</td>    <th>  R-squared:         </th> <td>   0.085</td> \n",
       "</tr>\n",
       "<tr>\n",
       "  <th>Model:</th>                   <td>OLS</td>       <th>  Adj. R-squared:    </th> <td>   0.083</td> \n",
       "</tr>\n",
       "<tr>\n",
       "  <th>Method:</th>             <td>Least Squares</td>  <th>  F-statistic:       </th> <td>   58.35</td> \n",
       "</tr>\n",
       "<tr>\n",
       "  <th>Date:</th>             <td>Sun, 13 Nov 2022</td> <th>  Prob (F-statistic):</th> <td>8.15e-14</td> \n",
       "</tr>\n",
       "<tr>\n",
       "  <th>Time:</th>                 <td>17:07:43</td>     <th>  Log-Likelihood:    </th> <td> -5559.3</td> \n",
       "</tr>\n",
       "<tr>\n",
       "  <th>No. Observations:</th>      <td>   633</td>      <th>  AIC:               </th> <td>1.112e+04</td>\n",
       "</tr>\n",
       "<tr>\n",
       "  <th>Df Residuals:</th>          <td>   631</td>      <th>  BIC:               </th> <td>1.113e+04</td>\n",
       "</tr>\n",
       "<tr>\n",
       "  <th>Df Model:</th>              <td>     1</td>      <th>                     </th>     <td> </td>    \n",
       "</tr>\n",
       "<tr>\n",
       "  <th>Covariance Type:</th>      <td>nonrobust</td>    <th>                     </th>     <td> </td>    \n",
       "</tr>\n",
       "</table>\n",
       "<table class=\"simpletable\">\n",
       "<tr>\n",
       "      <td></td>         <th>coef</th>     <th>std err</th>      <th>t</th>      <th>P>|t|</th>  <th>[0.025</th>    <th>0.975]</th>  \n",
       "</tr>\n",
       "<tr>\n",
       "  <th>Intercept</th> <td>-1171.9856</td> <td>  507.081</td> <td>   -2.311</td> <td> 0.021</td> <td>-2167.756</td> <td> -176.215</td>\n",
       "</tr>\n",
       "<tr>\n",
       "  <th>x_sslp_61</th> <td>   47.6652</td> <td>    6.240</td> <td>    7.639</td> <td> 0.000</td> <td>   35.412</td> <td>   59.918</td>\n",
       "</tr>\n",
       "</table>\n",
       "<table class=\"simpletable\">\n",
       "<tr>\n",
       "  <th>Omnibus:</th>       <td>276.221</td> <th>  Durbin-Watson:     </th> <td>   0.384</td>\n",
       "</tr>\n",
       "<tr>\n",
       "  <th>Prob(Omnibus):</th> <td> 0.000</td>  <th>  Jarque-Bera (JB):  </th> <td>  34.605</td>\n",
       "</tr>\n",
       "<tr>\n",
       "  <th>Skew:</th>          <td> 0.073</td>  <th>  Prob(JB):          </th> <td>3.06e-08</td>\n",
       "</tr>\n",
       "<tr>\n",
       "  <th>Kurtosis:</th>      <td> 1.864</td>  <th>  Cond. No.          </th> <td>    656.</td>\n",
       "</tr>\n",
       "</table><br/><br/>Notes:<br/>[1] Standard Errors assume that the covariance matrix of the errors is correctly specified."
      ],
      "text/plain": [
       "<class 'statsmodels.iolib.summary.Summary'>\n",
       "\"\"\"\n",
       "                            OLS Regression Results                            \n",
       "==============================================================================\n",
       "Dep. Variable:              y_sslp_61   R-squared:                       0.085\n",
       "Model:                            OLS   Adj. R-squared:                  0.083\n",
       "Method:                 Least Squares   F-statistic:                     58.35\n",
       "Date:                Sun, 13 Nov 2022   Prob (F-statistic):           8.15e-14\n",
       "Time:                        17:07:43   Log-Likelihood:                -5559.3\n",
       "No. Observations:                 633   AIC:                         1.112e+04\n",
       "Df Residuals:                     631   BIC:                         1.113e+04\n",
       "Df Model:                           1                                         \n",
       "Covariance Type:            nonrobust                                         \n",
       "==============================================================================\n",
       "                 coef    std err          t      P>|t|      [0.025      0.975]\n",
       "------------------------------------------------------------------------------\n",
       "Intercept  -1171.9856    507.081     -2.311      0.021   -2167.756    -176.215\n",
       "x_sslp_61     47.6652      6.240      7.639      0.000      35.412      59.918\n",
       "==============================================================================\n",
       "Omnibus:                      276.221   Durbin-Watson:                   0.384\n",
       "Prob(Omnibus):                  0.000   Jarque-Bera (JB):               34.605\n",
       "Skew:                           0.073   Prob(JB):                     3.06e-08\n",
       "Kurtosis:                       1.864   Cond. No.                         656.\n",
       "==============================================================================\n",
       "\n",
       "Notes:\n",
       "[1] Standard Errors assume that the covariance matrix of the errors is correctly specified.\n",
       "\"\"\""
      ]
     },
     "execution_count": 30,
     "metadata": {},
     "output_type": "execute_result"
    }
   ],
   "source": [
    "# Independent variable.\n",
    "x_sslp_61 = reviews_fnl_61['spending_score']\n",
    "\n",
    "# Dependent variable.\n",
    "y_sslp_61 = reviews_fnl_61['loyalty_points']\n",
    "\n",
    "# OLS model and summary.\n",
    "f_sslp_61 = 'y_sslp_61 ~ x_sslp_61'\n",
    "test_sslp_61 = ols(f_sslp_61, data=reviews_fnl_61).fit()\n",
    "test_sslp_61.summary()"
   ]
  },
  {
   "cell_type": "code",
   "execution_count": 31,
   "id": "652a5aad",
   "metadata": {},
   "outputs": [
    {
     "name": "stdout",
     "output_type": "stream",
     "text": [
      "{'LM stat': 42.450298264357265, 'LM Test p-value': 7.250135584741414e-11, 'F-stat': 45.35797431796883, 'F-test p-value': 3.6981508740877824e-11}\n"
     ]
    }
   ],
   "source": [
    "# Check for heteroscedasticity:\n",
    "# Run the Breusch-Pagan test function on the model residuals and x-variables.\n",
    "test_sslp_61 = sms.het_breuschpagan(test_sslp_61.resid, test_sslp_61.model.exog)\n",
    "\n",
    "# Print the results of the Breusch-Pagan test.\n",
    "terms_sslp_61 = ['LM stat', 'LM Test p-value', 'F-stat', 'F-test p-value']\n",
    "print(dict(zip(terms_sslp_61, test_sslp_61)))\n",
    "\n",
    "# LM Test p-value = 7.250135584741414e-11 < 0.05 => we fail to accept the H0\n",
    "# (the residuals are distributed with equal variance), and assume that heteroscedasticity \n",
    "# is present."
   ]
  },
  {
   "cell_type": "code",
   "execution_count": 32,
   "id": "946de947",
   "metadata": {},
   "outputs": [
    {
     "data": {
      "text/html": [
       "<table class=\"simpletable\">\n",
       "<caption>OLS Regression Results</caption>\n",
       "<tr>\n",
       "  <th>Dep. Variable:</th>     <td>y_sslp_log10_61</td> <th>  R-squared:         </th> <td>   0.068</td>\n",
       "</tr>\n",
       "<tr>\n",
       "  <th>Model:</th>                   <td>OLS</td>       <th>  Adj. R-squared:    </th> <td>   0.067</td>\n",
       "</tr>\n",
       "<tr>\n",
       "  <th>Method:</th>             <td>Least Squares</td>  <th>  F-statistic:       </th> <td>   46.29</td>\n",
       "</tr>\n",
       "<tr>\n",
       "  <th>Date:</th>             <td>Sun, 13 Nov 2022</td> <th>  Prob (F-statistic):</th> <td>2.37e-11</td>\n",
       "</tr>\n",
       "<tr>\n",
       "  <th>Time:</th>                 <td>17:07:43</td>     <th>  Log-Likelihood:    </th> <td> -169.69</td>\n",
       "</tr>\n",
       "<tr>\n",
       "  <th>No. Observations:</th>      <td>   633</td>      <th>  AIC:               </th> <td>   343.4</td>\n",
       "</tr>\n",
       "<tr>\n",
       "  <th>Df Residuals:</th>          <td>   631</td>      <th>  BIC:               </th> <td>   352.3</td>\n",
       "</tr>\n",
       "<tr>\n",
       "  <th>Df Model:</th>              <td>     1</td>      <th>                     </th>     <td> </td>   \n",
       "</tr>\n",
       "<tr>\n",
       "  <th>Covariance Type:</th>      <td>nonrobust</td>    <th>                     </th>     <td> </td>   \n",
       "</tr>\n",
       "</table>\n",
       "<table class=\"simpletable\">\n",
       "<tr>\n",
       "      <td></td>         <th>coef</th>     <th>std err</th>      <th>t</th>      <th>P>|t|</th>  <th>[0.025</th>    <th>0.975]</th>  \n",
       "</tr>\n",
       "<tr>\n",
       "  <th>Intercept</th> <td>    2.6325</td> <td>    0.102</td> <td>   25.885</td> <td> 0.000</td> <td>    2.433</td> <td>    2.832</td>\n",
       "</tr>\n",
       "<tr>\n",
       "  <th>x_sslp_61</th> <td>    0.0085</td> <td>    0.001</td> <td>    6.804</td> <td> 0.000</td> <td>    0.006</td> <td>    0.011</td>\n",
       "</tr>\n",
       "</table>\n",
       "<table class=\"simpletable\">\n",
       "<tr>\n",
       "  <th>Omnibus:</th>       <td>2258.463</td> <th>  Durbin-Watson:     </th> <td>   0.294</td>\n",
       "</tr>\n",
       "<tr>\n",
       "  <th>Prob(Omnibus):</th>  <td> 0.000</td>  <th>  Jarque-Bera (JB):  </th> <td>  62.625</td>\n",
       "</tr>\n",
       "<tr>\n",
       "  <th>Skew:</th>           <td>-0.379</td>  <th>  Prob(JB):          </th> <td>2.52e-14</td>\n",
       "</tr>\n",
       "<tr>\n",
       "  <th>Kurtosis:</th>       <td> 1.658</td>  <th>  Cond. No.          </th> <td>    656.</td>\n",
       "</tr>\n",
       "</table><br/><br/>Notes:<br/>[1] Standard Errors assume that the covariance matrix of the errors is correctly specified."
      ],
      "text/plain": [
       "<class 'statsmodels.iolib.summary.Summary'>\n",
       "\"\"\"\n",
       "                            OLS Regression Results                            \n",
       "==============================================================================\n",
       "Dep. Variable:        y_sslp_log10_61   R-squared:                       0.068\n",
       "Model:                            OLS   Adj. R-squared:                  0.067\n",
       "Method:                 Least Squares   F-statistic:                     46.29\n",
       "Date:                Sun, 13 Nov 2022   Prob (F-statistic):           2.37e-11\n",
       "Time:                        17:07:43   Log-Likelihood:                -169.69\n",
       "No. Observations:                 633   AIC:                             343.4\n",
       "Df Residuals:                     631   BIC:                             352.3\n",
       "Df Model:                           1                                         \n",
       "Covariance Type:            nonrobust                                         \n",
       "==============================================================================\n",
       "                 coef    std err          t      P>|t|      [0.025      0.975]\n",
       "------------------------------------------------------------------------------\n",
       "Intercept      2.6325      0.102     25.885      0.000       2.433       2.832\n",
       "x_sslp_61      0.0085      0.001      6.804      0.000       0.006       0.011\n",
       "==============================================================================\n",
       "Omnibus:                     2258.463   Durbin-Watson:                   0.294\n",
       "Prob(Omnibus):                  0.000   Jarque-Bera (JB):               62.625\n",
       "Skew:                          -0.379   Prob(JB):                     2.52e-14\n",
       "Kurtosis:                       1.658   Cond. No.                         656.\n",
       "==============================================================================\n",
       "\n",
       "Notes:\n",
       "[1] Standard Errors assume that the covariance matrix of the errors is correctly specified.\n",
       "\"\"\""
      ]
     },
     "execution_count": 32,
     "metadata": {},
     "output_type": "execute_result"
    }
   ],
   "source": [
    "# Perform a log transformation on the dependent variable (y = loyalty_points) for reducing \n",
    "# heteroscedasticity. \n",
    "\n",
    "# Independent variable.\n",
    "x_sslp_61 = reviews_fnl_61['spending_score']\n",
    "\n",
    "# Dependent variable.\n",
    "y_sslp_log10_61 = reviews_fnl_61['loyalty_points_log10']\n",
    "\n",
    "# OLS model and summary.\n",
    "f_sslp_log10_61 = 'y_sslp_log10_61 ~ x_sslp_61'\n",
    "test_sslp_log10_61 = ols(f_sslp_log10_61, data=reviews_fnl_61).fit()\n",
    "test_sslp_log10_61.summary()"
   ]
  },
  {
   "cell_type": "code",
   "execution_count": 33,
   "id": "696882c5",
   "metadata": {},
   "outputs": [
    {
     "name": "stdout",
     "output_type": "stream",
     "text": [
      "{'LM stat': 1.4264737726632337, 'LM Test p-value': 0.23234078380154152, 'F-stat': 1.4251784046858507, 'F-test p-value': 0.2330015513333428}\n"
     ]
    }
   ],
   "source": [
    "# Check for heteroscedasticity:\n",
    "# Run the Breusch-Pagan test function on the model residuals and x-variables.\n",
    "test_sslp_log10_61 = sms.het_breuschpagan(test_sslp_log10_61.resid, \n",
    "                                          test_sslp_log10_61.model.exog)\n",
    "\n",
    "# Print the results of the Breusch-Pagan test.\n",
    "terms_sslp_log10_61 = ['LM stat', 'LM Test p-value', 'F-stat', 'F-test p-value']\n",
    "print(dict(zip(terms_sslp_log10_61, test_sslp_log10_61)))\n",
    "\n",
    "# LM Test p-value = 0.23234078380154152 > 0.05 => we fail to reject the H0\n",
    "# (the residuals are distributed with equal variance), and assume homoscedasticity."
   ]
  },
  {
   "cell_type": "markdown",
   "id": "0bc0f24f",
   "metadata": {},
   "source": [
    "### 5b) annual income (k£) vs loyalty points"
   ]
  },
  {
   "cell_type": "code",
   "execution_count": 34,
   "id": "db590005-b90a-4005-875e-dbec56155229",
   "metadata": {},
   "outputs": [
    {
     "data": {
      "text/html": [
       "<table class=\"simpletable\">\n",
       "<caption>OLS Regression Results</caption>\n",
       "<tr>\n",
       "  <th>Dep. Variable:</th>         <td>y_ailp</td>      <th>  R-squared:         </th> <td>   0.380</td> \n",
       "</tr>\n",
       "<tr>\n",
       "  <th>Model:</th>                   <td>OLS</td>       <th>  Adj. R-squared:    </th> <td>   0.379</td> \n",
       "</tr>\n",
       "<tr>\n",
       "  <th>Method:</th>             <td>Least Squares</td>  <th>  F-statistic:       </th> <td>   1222.</td> \n",
       "</tr>\n",
       "<tr>\n",
       "  <th>Date:</th>             <td>Sun, 13 Nov 2022</td> <th>  Prob (F-statistic):</th> <td>2.43e-209</td>\n",
       "</tr>\n",
       "<tr>\n",
       "  <th>Time:</th>                 <td>17:07:43</td>     <th>  Log-Likelihood:    </th> <td> -16674.</td> \n",
       "</tr>\n",
       "<tr>\n",
       "  <th>No. Observations:</th>      <td>  2000</td>      <th>  AIC:               </th> <td>3.335e+04</td>\n",
       "</tr>\n",
       "<tr>\n",
       "  <th>Df Residuals:</th>          <td>  1998</td>      <th>  BIC:               </th> <td>3.336e+04</td>\n",
       "</tr>\n",
       "<tr>\n",
       "  <th>Df Model:</th>              <td>     1</td>      <th>                     </th>     <td> </td>    \n",
       "</tr>\n",
       "<tr>\n",
       "  <th>Covariance Type:</th>      <td>nonrobust</td>    <th>                     </th>     <td> </td>    \n",
       "</tr>\n",
       "</table>\n",
       "<table class=\"simpletable\">\n",
       "<tr>\n",
       "      <td></td>         <th>coef</th>     <th>std err</th>      <th>t</th>      <th>P>|t|</th>  <th>[0.025</th>    <th>0.975]</th>  \n",
       "</tr>\n",
       "<tr>\n",
       "  <th>Intercept</th> <td>  -65.6865</td> <td>   52.171</td> <td>   -1.259</td> <td> 0.208</td> <td> -168.001</td> <td>   36.628</td>\n",
       "</tr>\n",
       "<tr>\n",
       "  <th>x_ailp</th>    <td>   34.1878</td> <td>    0.978</td> <td>   34.960</td> <td> 0.000</td> <td>   32.270</td> <td>   36.106</td>\n",
       "</tr>\n",
       "</table>\n",
       "<table class=\"simpletable\">\n",
       "<tr>\n",
       "  <th>Omnibus:</th>       <td>21.285</td> <th>  Durbin-Watson:     </th> <td>   3.622</td>\n",
       "</tr>\n",
       "<tr>\n",
       "  <th>Prob(Omnibus):</th> <td> 0.000</td> <th>  Jarque-Bera (JB):  </th> <td>  31.715</td>\n",
       "</tr>\n",
       "<tr>\n",
       "  <th>Skew:</th>          <td> 0.089</td> <th>  Prob(JB):          </th> <td>1.30e-07</td>\n",
       "</tr>\n",
       "<tr>\n",
       "  <th>Kurtosis:</th>      <td> 3.590</td> <th>  Cond. No.          </th> <td>    123.</td>\n",
       "</tr>\n",
       "</table><br/><br/>Notes:<br/>[1] Standard Errors assume that the covariance matrix of the errors is correctly specified."
      ],
      "text/plain": [
       "<class 'statsmodels.iolib.summary.Summary'>\n",
       "\"\"\"\n",
       "                            OLS Regression Results                            \n",
       "==============================================================================\n",
       "Dep. Variable:                 y_ailp   R-squared:                       0.380\n",
       "Model:                            OLS   Adj. R-squared:                  0.379\n",
       "Method:                 Least Squares   F-statistic:                     1222.\n",
       "Date:                Sun, 13 Nov 2022   Prob (F-statistic):          2.43e-209\n",
       "Time:                        17:07:43   Log-Likelihood:                -16674.\n",
       "No. Observations:                2000   AIC:                         3.335e+04\n",
       "Df Residuals:                    1998   BIC:                         3.336e+04\n",
       "Df Model:                           1                                         \n",
       "Covariance Type:            nonrobust                                         \n",
       "==============================================================================\n",
       "                 coef    std err          t      P>|t|      [0.025      0.975]\n",
       "------------------------------------------------------------------------------\n",
       "Intercept    -65.6865     52.171     -1.259      0.208    -168.001      36.628\n",
       "x_ailp        34.1878      0.978     34.960      0.000      32.270      36.106\n",
       "==============================================================================\n",
       "Omnibus:                       21.285   Durbin-Watson:                   3.622\n",
       "Prob(Omnibus):                  0.000   Jarque-Bera (JB):               31.715\n",
       "Skew:                           0.089   Prob(JB):                     1.30e-07\n",
       "Kurtosis:                       3.590   Cond. No.                         123.\n",
       "==============================================================================\n",
       "\n",
       "Notes:\n",
       "[1] Standard Errors assume that the covariance matrix of the errors is correctly specified.\n",
       "\"\"\""
      ]
     },
     "execution_count": 34,
     "metadata": {},
     "output_type": "execute_result"
    }
   ],
   "source": [
    "# Independent variable.\n",
    "x_ailp = reviews_fnl['annual_income (k£)']\n",
    "\n",
    "# Dependent variable.\n",
    "y_ailp = reviews_fnl['loyalty_points']\n",
    "\n",
    "# OLS model and summary.\n",
    "f_ailp = 'y_ailp ~ x_ailp'\n",
    "test_ailp = ols(f_ailp, data=reviews_fnl).fit()\n",
    "test_ailp.summary()"
   ]
  },
  {
   "cell_type": "code",
   "execution_count": 35,
   "id": "83e9ff25",
   "metadata": {},
   "outputs": [
    {
     "name": "stdout",
     "output_type": "stream",
     "text": [
      "Estimated parameters:\n",
      " Intercept   -65.686513\n",
      "x_ailp       34.187825\n",
      "dtype: float64\n",
      "\n",
      "Standard errors:\n",
      " Intercept    52.170717\n",
      "x_ailp        0.977925\n",
      "dtype: float64\n",
      "\n",
      "Predicted values:\n",
      " [ 354.82374068  354.82374068  382.85775758 ... 3102.15739671 3298.39551499\n",
      " 3102.15739671]\n"
     ]
    }
   ],
   "source": [
    "# Extract the estimated parameters.\n",
    "print('Estimated parameters:\\n', test_ailp.params)\n",
    "\n",
    "# Extract the standard errors.\n",
    "print('\\nStandard errors:\\n', test_ailp.bse)\n",
    "\n",
    "# Extract the predicted values.\n",
    "print('\\nPredicted values:\\n', test_ailp.predict())"
   ]
  },
  {
   "cell_type": "code",
   "execution_count": 36,
   "id": "291fb0ae",
   "metadata": {},
   "outputs": [
    {
     "data": {
      "text/plain": [
       "0        354.823735\n",
       "1        354.823735\n",
       "2        382.857751\n",
       "3        382.857751\n",
       "4        410.891767\n",
       "           ...     \n",
       "1995    2821.817186\n",
       "1996    3102.157351\n",
       "1997    3102.157351\n",
       "1998    3298.395467\n",
       "1999    3102.157351\n",
       "Name: annual_income (k£), Length: 2000, dtype: float64"
      ]
     },
     "execution_count": 36,
     "metadata": {},
     "output_type": "execute_result"
    }
   ],
   "source": [
    "# Set the X coefficient and the constant to generate the regression table.\n",
    "x_coef_ailp = 34.187825\n",
    "const_ailp = (-65.686513)\n",
    "y_pred_ailp = const_ailp + x_coef_ailp * x_ailp\n",
    "\n",
    "# View the output.\n",
    "y_pred_ailp"
   ]
  },
  {
   "cell_type": "code",
   "execution_count": 37,
   "id": "02d00e76",
   "metadata": {},
   "outputs": [
    {
     "data": {
      "image/png": "[encoded data removed]",
      "text/plain": [
       "<Figure size 432x288 with 1 Axes>"
      ]
     },
     "metadata": {
      "needs_background": "light"
     },
     "output_type": "display_data"
    }
   ],
   "source": [
    "# Plot the graph with a regression line.\n",
    "plt.scatter(x_ailp, y_ailp)\n",
    "\n",
    "plt.plot(x_ailp, y_pred_ailp, color='red')\n",
    "\n",
    "plt.xlim(0)\n",
    "plt.ylim(0)\n",
    "\n",
    "# View the plot.\n",
    "plt.show()"
   ]
  },
  {
   "cell_type": "code",
   "execution_count": 38,
   "id": "6e10ac86",
   "metadata": {},
   "outputs": [
    {
     "name": "stdout",
     "output_type": "stream",
     "text": [
      "{'LM stat': 1038.6445487288283, 'LM Test p-value': 7.153051772822205e-228, 'F-stat': 2158.6311344219334, 'F-test p-value': 3.68e-320}\n"
     ]
    }
   ],
   "source": [
    "# Check for heteroscedasticity:\n",
    "# Run the Breusch-Pagan test function on the model residuals and x-variables.\n",
    "test_ailp = sms.het_breuschpagan(test_ailp.resid, test_ailp.model.exog)\n",
    "\n",
    "# Print the results of the Breusch-Pagan test.\n",
    "terms_ailp = ['LM stat', 'LM Test p-value', 'F-stat', 'F-test p-value']\n",
    "print(dict(zip(terms_ailp, test_ailp)))\n",
    "\n",
    "# LM Test p-value = 7.153051772822205e-228 < 0.05 => we fail to accept the H0\n",
    "# (the residuals are distributed with equal variance), and assume that heteroscedasticity \n",
    "# is present."
   ]
  },
  {
   "cell_type": "code",
   "execution_count": 39,
   "id": "6764b80f",
   "metadata": {},
   "outputs": [
    {
     "data": {
      "text/html": [
       "<table class=\"simpletable\">\n",
       "<caption>OLS Regression Results</caption>\n",
       "<tr>\n",
       "  <th>Dep. Variable:</th>         <td>y_ailp1</td>     <th>  R-squared:         </th> <td>   0.284</td> \n",
       "</tr>\n",
       "<tr>\n",
       "  <th>Model:</th>                   <td>OLS</td>       <th>  Adj. R-squared:    </th> <td>   0.284</td> \n",
       "</tr>\n",
       "<tr>\n",
       "  <th>Method:</th>             <td>Least Squares</td>  <th>  F-statistic:       </th> <td>   794.3</td> \n",
       "</tr>\n",
       "<tr>\n",
       "  <th>Date:</th>             <td>Sun, 13 Nov 2022</td> <th>  Prob (F-statistic):</th> <td>1.98e-147</td>\n",
       "</tr>\n",
       "<tr>\n",
       "  <th>Time:</th>                 <td>17:07:43</td>     <th>  Log-Likelihood:    </th> <td> -875.08</td> \n",
       "</tr>\n",
       "<tr>\n",
       "  <th>No. Observations:</th>      <td>  2000</td>      <th>  AIC:               </th> <td>   1754.</td> \n",
       "</tr>\n",
       "<tr>\n",
       "  <th>Df Residuals:</th>          <td>  1998</td>      <th>  BIC:               </th> <td>   1765.</td> \n",
       "</tr>\n",
       "<tr>\n",
       "  <th>Df Model:</th>              <td>     1</td>      <th>                     </th>     <td> </td>    \n",
       "</tr>\n",
       "<tr>\n",
       "  <th>Covariance Type:</th>      <td>nonrobust</td>    <th>                     </th>     <td> </td>    \n",
       "</tr>\n",
       "</table>\n",
       "<table class=\"simpletable\">\n",
       "<tr>\n",
       "      <td></td>         <th>coef</th>     <th>std err</th>      <th>t</th>      <th>P>|t|</th>  <th>[0.025</th>    <th>0.975]</th>  \n",
       "</tr>\n",
       "<tr>\n",
       "  <th>Intercept</th> <td>    2.5408</td> <td>    0.019</td> <td>  131.318</td> <td> 0.000</td> <td>    2.503</td> <td>    2.579</td>\n",
       "</tr>\n",
       "<tr>\n",
       "  <th>x_ailp1</th>   <td>    0.0102</td> <td>    0.000</td> <td>   28.184</td> <td> 0.000</td> <td>    0.010</td> <td>    0.011</td>\n",
       "</tr>\n",
       "</table>\n",
       "<table class=\"simpletable\">\n",
       "<tr>\n",
       "  <th>Omnibus:</th>       <td>610.463</td> <th>  Durbin-Watson:     </th> <td>   2.844</td>\n",
       "</tr>\n",
       "<tr>\n",
       "  <th>Prob(Omnibus):</th> <td> 0.000</td>  <th>  Jarque-Bera (JB):  </th> <td>1512.287</td>\n",
       "</tr>\n",
       "<tr>\n",
       "  <th>Skew:</th>          <td>-1.669</td>  <th>  Prob(JB):          </th> <td>    0.00</td>\n",
       "</tr>\n",
       "<tr>\n",
       "  <th>Kurtosis:</th>      <td> 5.647</td>  <th>  Cond. No.          </th> <td>    123.</td>\n",
       "</tr>\n",
       "</table><br/><br/>Notes:<br/>[1] Standard Errors assume that the covariance matrix of the errors is correctly specified."
      ],
      "text/plain": [
       "<class 'statsmodels.iolib.summary.Summary'>\n",
       "\"\"\"\n",
       "                            OLS Regression Results                            \n",
       "==============================================================================\n",
       "Dep. Variable:                y_ailp1   R-squared:                       0.284\n",
       "Model:                            OLS   Adj. R-squared:                  0.284\n",
       "Method:                 Least Squares   F-statistic:                     794.3\n",
       "Date:                Sun, 13 Nov 2022   Prob (F-statistic):          1.98e-147\n",
       "Time:                        17:07:43   Log-Likelihood:                -875.08\n",
       "No. Observations:                2000   AIC:                             1754.\n",
       "Df Residuals:                    1998   BIC:                             1765.\n",
       "Df Model:                           1                                         \n",
       "Covariance Type:            nonrobust                                         \n",
       "==============================================================================\n",
       "                 coef    std err          t      P>|t|      [0.025      0.975]\n",
       "------------------------------------------------------------------------------\n",
       "Intercept      2.5408      0.019    131.318      0.000       2.503       2.579\n",
       "x_ailp1        0.0102      0.000     28.184      0.000       0.010       0.011\n",
       "==============================================================================\n",
       "Omnibus:                      610.463   Durbin-Watson:                   2.844\n",
       "Prob(Omnibus):                  0.000   Jarque-Bera (JB):             1512.287\n",
       "Skew:                          -1.669   Prob(JB):                         0.00\n",
       "Kurtosis:                       5.647   Cond. No.                         123.\n",
       "==============================================================================\n",
       "\n",
       "Notes:\n",
       "[1] Standard Errors assume that the covariance matrix of the errors is correctly specified.\n",
       "\"\"\""
      ]
     },
     "execution_count": 39,
     "metadata": {},
     "output_type": "execute_result"
    }
   ],
   "source": [
    "# Independent variable.\n",
    "x_ailp1 = reviews_fnl['annual_income (k£)']\n",
    "\n",
    "# Dependent variable.\n",
    "y_ailp1 = reviews_fnl['loyalty_points_log10']\n",
    "\n",
    "# OLS model and summary.\n",
    "f_ailp1 = 'y_ailp1 ~ x_ailp1'\n",
    "test_ailp1 = ols(f_ailp1, data=reviews_fnl).fit()\n",
    "test_ailp1.summary()"
   ]
  },
  {
   "cell_type": "code",
   "execution_count": 40,
   "id": "346339b7",
   "metadata": {},
   "outputs": [
    {
     "name": "stdout",
     "output_type": "stream",
     "text": [
      "Estimated parameters:\n",
      " Intercept    2.540847\n",
      "x_ailp1      0.010222\n",
      "dtype: float64\n",
      "\n",
      "Standard errors:\n",
      " Intercept    0.019349\n",
      "x_ailp1      0.000363\n",
      "dtype: float64\n",
      "\n",
      "Predicted values:\n",
      " [2.66657752 2.66657752 2.67495956 ... 3.48801698 3.54669122 3.48801698]\n"
     ]
    }
   ],
   "source": [
    "# Extract the estimated parameters.\n",
    "print('Estimated parameters:\\n', test_ailp1.params)\n",
    "\n",
    "# Extract the standard errors.\n",
    "print('\\nStandard errors:\\n', test_ailp1.bse)\n",
    "\n",
    "# Extract the predicted values.\n",
    "print('\\nPredicted values:\\n', test_ailp1.predict())"
   ]
  },
  {
   "cell_type": "code",
   "execution_count": 41,
   "id": "e9d8e3f0",
   "metadata": {},
   "outputs": [
    {
     "data": {
      "text/plain": [
       "0        354.823735\n",
       "1        354.823735\n",
       "2        382.857751\n",
       "3        382.857751\n",
       "4        410.891767\n",
       "           ...     \n",
       "1995    2821.817186\n",
       "1996    3102.157351\n",
       "1997    3102.157351\n",
       "1998    3298.395467\n",
       "1999    3102.157351\n",
       "Name: annual_income (k£), Length: 2000, dtype: float64"
      ]
     },
     "execution_count": 41,
     "metadata": {},
     "output_type": "execute_result"
    }
   ],
   "source": [
    "# Set the X coefficient and the constant to generate the regression table.\n",
    "x_coef_ailp1 = 0.010222\n",
    "const_ailp1 = 2.540847\n",
    "y_pred_ailp1 = const_ailp1 + x_coef_ailp1 * x_ailp1\n",
    "\n",
    "# View the output.\n",
    "y_pred_ailp"
   ]
  },
  {
   "cell_type": "code",
   "execution_count": 42,
   "id": "e96b47c2",
   "metadata": {},
   "outputs": [
    {
     "data": {
      "image/png": "[encoded data removed]",
      "text/plain": [
       "<Figure size 432x288 with 1 Axes>"
      ]
     },
     "metadata": {
      "needs_background": "light"
     },
     "output_type": "display_data"
    }
   ],
   "source": [
    "# Plot the graph with a regression line.\n",
    "plt.scatter(x_ailp1, y_ailp1)\n",
    "\n",
    "plt.plot(x_ailp1, y_pred_ailp1, color='red')\n",
    "\n",
    "plt.xlim(0)\n",
    "plt.ylim(0)\n",
    "\n",
    "# View the plot.\n",
    "plt.show()"
   ]
  },
  {
   "cell_type": "code",
   "execution_count": 43,
   "id": "00db385f",
   "metadata": {},
   "outputs": [
    {
     "name": "stdout",
     "output_type": "stream",
     "text": [
      "{'LM stat': 0.04764626018283202, 'LM Test p-value': 0.8272107748026084, 'F-stat': 0.04759974789772982, 'F-test p-value': 0.8273160836318402}\n"
     ]
    }
   ],
   "source": [
    "# Check for heteroscedasticity:\n",
    "# Run the Breusch-Pagan test function on the model residuals and x-variables.\n",
    "test_ailp1 = sms.het_breuschpagan(test_ailp1.resid, test_ailp1.model.exog)\n",
    "\n",
    "# Print the results of the Breusch-Pagan test.\n",
    "terms_ailp1 = ['LM stat', 'LM Test p-value', 'F-stat', 'F-test p-value']\n",
    "print(dict(zip(terms_ailp1, test_ailp1)))\n",
    "\n",
    "# LM Test p-value = 0.8272107748026084 > 0.05 => we fail to reject the H0\n",
    "# (the residuals are distributed with equal variance), and assume homoscedasticity."
   ]
  },
  {
   "cell_type": "markdown",
   "id": "c8e1552d",
   "metadata": {},
   "source": [
    "### 5c) age vs loyalty points"
   ]
  },
  {
   "cell_type": "code",
   "execution_count": 44,
   "id": "099274ee-8c86-44dc-a8dc-dfbf91e59728",
   "metadata": {},
   "outputs": [
    {
     "data": {
      "text/html": [
       "<table class=\"simpletable\">\n",
       "<caption>OLS Regression Results</caption>\n",
       "<tr>\n",
       "  <th>Dep. Variable:</th>          <td>y_alp</td>      <th>  R-squared:         </th> <td>   0.002</td> \n",
       "</tr>\n",
       "<tr>\n",
       "  <th>Model:</th>                   <td>OLS</td>       <th>  Adj. R-squared:    </th> <td>   0.001</td> \n",
       "</tr>\n",
       "<tr>\n",
       "  <th>Method:</th>             <td>Least Squares</td>  <th>  F-statistic:       </th> <td>   3.606</td> \n",
       "</tr>\n",
       "<tr>\n",
       "  <th>Date:</th>             <td>Sun, 13 Nov 2022</td> <th>  Prob (F-statistic):</th>  <td>0.0577</td>  \n",
       "</tr>\n",
       "<tr>\n",
       "  <th>Time:</th>                 <td>17:07:43</td>     <th>  Log-Likelihood:    </th> <td> -17150.</td> \n",
       "</tr>\n",
       "<tr>\n",
       "  <th>No. Observations:</th>      <td>  2000</td>      <th>  AIC:               </th> <td>3.430e+04</td>\n",
       "</tr>\n",
       "<tr>\n",
       "  <th>Df Residuals:</th>          <td>  1998</td>      <th>  BIC:               </th> <td>3.431e+04</td>\n",
       "</tr>\n",
       "<tr>\n",
       "  <th>Df Model:</th>              <td>     1</td>      <th>                     </th>     <td> </td>    \n",
       "</tr>\n",
       "<tr>\n",
       "  <th>Covariance Type:</th>      <td>nonrobust</td>    <th>                     </th>     <td> </td>    \n",
       "</tr>\n",
       "</table>\n",
       "<table class=\"simpletable\">\n",
       "<tr>\n",
       "      <td></td>         <th>coef</th>     <th>std err</th>      <th>t</th>      <th>P>|t|</th>  <th>[0.025</th>    <th>0.975]</th>  \n",
       "</tr>\n",
       "<tr>\n",
       "  <th>Intercept</th> <td> 1736.5177</td> <td>   88.249</td> <td>   19.678</td> <td> 0.000</td> <td> 1563.449</td> <td> 1909.587</td>\n",
       "</tr>\n",
       "<tr>\n",
       "  <th>x_alp</th>     <td>   -4.0128</td> <td>    2.113</td> <td>   -1.899</td> <td> 0.058</td> <td>   -8.157</td> <td>    0.131</td>\n",
       "</tr>\n",
       "</table>\n",
       "<table class=\"simpletable\">\n",
       "<tr>\n",
       "  <th>Omnibus:</th>       <td>481.477</td> <th>  Durbin-Watson:     </th> <td>   2.277</td> \n",
       "</tr>\n",
       "<tr>\n",
       "  <th>Prob(Omnibus):</th> <td> 0.000</td>  <th>  Jarque-Bera (JB):  </th> <td> 937.734</td> \n",
       "</tr>\n",
       "<tr>\n",
       "  <th>Skew:</th>          <td> 1.449</td>  <th>  Prob(JB):          </th> <td>2.36e-204</td>\n",
       "</tr>\n",
       "<tr>\n",
       "  <th>Kurtosis:</th>      <td> 4.688</td>  <th>  Cond. No.          </th> <td>    129.</td> \n",
       "</tr>\n",
       "</table><br/><br/>Notes:<br/>[1] Standard Errors assume that the covariance matrix of the errors is correctly specified."
      ],
      "text/plain": [
       "<class 'statsmodels.iolib.summary.Summary'>\n",
       "\"\"\"\n",
       "                            OLS Regression Results                            \n",
       "==============================================================================\n",
       "Dep. Variable:                  y_alp   R-squared:                       0.002\n",
       "Model:                            OLS   Adj. R-squared:                  0.001\n",
       "Method:                 Least Squares   F-statistic:                     3.606\n",
       "Date:                Sun, 13 Nov 2022   Prob (F-statistic):             0.0577\n",
       "Time:                        17:07:43   Log-Likelihood:                -17150.\n",
       "No. Observations:                2000   AIC:                         3.430e+04\n",
       "Df Residuals:                    1998   BIC:                         3.431e+04\n",
       "Df Model:                           1                                         \n",
       "Covariance Type:            nonrobust                                         \n",
       "==============================================================================\n",
       "                 coef    std err          t      P>|t|      [0.025      0.975]\n",
       "------------------------------------------------------------------------------\n",
       "Intercept   1736.5177     88.249     19.678      0.000    1563.449    1909.587\n",
       "x_alp         -4.0128      2.113     -1.899      0.058      -8.157       0.131\n",
       "==============================================================================\n",
       "Omnibus:                      481.477   Durbin-Watson:                   2.277\n",
       "Prob(Omnibus):                  0.000   Jarque-Bera (JB):              937.734\n",
       "Skew:                           1.449   Prob(JB):                    2.36e-204\n",
       "Kurtosis:                       4.688   Cond. No.                         129.\n",
       "==============================================================================\n",
       "\n",
       "Notes:\n",
       "[1] Standard Errors assume that the covariance matrix of the errors is correctly specified.\n",
       "\"\"\""
      ]
     },
     "execution_count": 44,
     "metadata": {},
     "output_type": "execute_result"
    }
   ],
   "source": [
    "# Independent variable.\n",
    "x_alp = reviews_fnl['age']\n",
    "\n",
    "# Dependent variable.\n",
    "y_alp = reviews_fnl['loyalty_points']\n",
    "\n",
    "# OLS model and summary.\n",
    "f_alp = 'y_alp ~ x_alp'\n",
    "test_alp = ols(f_alp, data=reviews_fnl).fit()\n",
    "test_alp.summary()"
   ]
  },
  {
   "cell_type": "code",
   "execution_count": 45,
   "id": "0084f022",
   "metadata": {},
   "outputs": [
    {
     "name": "stdout",
     "output_type": "stream",
     "text": [
      "Estimated parameters:\n",
      " Intercept    1736.517739\n",
      "x_alp          -4.012805\n",
      "dtype: float64\n",
      "\n",
      "Standard errors:\n",
      " Intercept    88.248731\n",
      "x_alp         2.113177\n",
      "dtype: float64\n",
      "\n",
      "Predicted values:\n",
      " [1664.2872467  1644.22322095 1648.2360261  ... 1600.0823643  1600.0823643\n",
      " 1608.1079746 ]\n"
     ]
    }
   ],
   "source": [
    "# Extract the estimated parameters.\n",
    "print('Estimated parameters:\\n', test_alp.params )\n",
    "\n",
    "# Extract the standard errors.\n",
    "print('\\nStandard errors:\\n', test_alp.bse)\n",
    "\n",
    "# Extract the predicted values.\n",
    "print('\\nPredicted values:\\n', test_alp.predict())"
   ]
  },
  {
   "cell_type": "code",
   "execution_count": 46,
   "id": "1fb3a7e5",
   "metadata": {},
   "outputs": [
    {
     "data": {
      "text/plain": [
       "0       1664.287249\n",
       "1       1644.223224\n",
       "2       1648.236029\n",
       "3       1636.197614\n",
       "4       1604.095174\n",
       "           ...     \n",
       "1995    1588.043954\n",
       "1996    1563.967124\n",
       "1997    1600.082369\n",
       "1998    1600.082369\n",
       "1999    1608.107979\n",
       "Name: age, Length: 2000, dtype: float64"
      ]
     },
     "execution_count": 46,
     "metadata": {},
     "output_type": "execute_result"
    }
   ],
   "source": [
    "# Set the X coefficient and the constant to generate the regression table.\n",
    "x_coef_alp = (-4.012805)\n",
    "const_alp = 1736.517739\n",
    "y_pred_alp = const_alp + x_coef_alp * x_alp\n",
    "\n",
    "# View the output.\n",
    "y_pred_alp"
   ]
  },
  {
   "cell_type": "code",
   "execution_count": 47,
   "id": "19bc52bd",
   "metadata": {},
   "outputs": [
    {
     "data": {
      "image/png": "[encoded data removed]",
      "text/plain": [
       "<Figure size 432x288 with 1 Axes>"
      ]
     },
     "metadata": {
      "needs_background": "light"
     },
     "output_type": "display_data"
    }
   ],
   "source": [
    "# Plot the graph with a regression line.\n",
    "plt.scatter(x_alp, y_alp)\n",
    "\n",
    "plt.plot(x_alp, y_pred_alp, color='red')\n",
    "\n",
    "plt.xlim(0)\n",
    "plt.ylim(0)\n",
    "\n",
    "# View the plot.\n",
    "plt.show()"
   ]
  },
  {
   "cell_type": "code",
   "execution_count": 48,
   "id": "2d0c401a",
   "metadata": {},
   "outputs": [
    {
     "name": "stdout",
     "output_type": "stream",
     "text": [
      "{'LM stat': 13.045150861307642, 'LM Test p-value': 0.00030407066519251314, 'F-stat': 13.11766668084642, 'F-test p-value': 0.0002998192355800465}\n"
     ]
    }
   ],
   "source": [
    "# Check for heteroscedasticity:\n",
    "# Run the Breusch-Pagan test function on the model residuals and x-variables.\n",
    "test_alp = sms.het_breuschpagan(test_alp.resid, test_alp.model.exog)\n",
    "\n",
    "# Print the results of the Breusch-Pagan test.\n",
    "terms_alp = ['LM stat', 'LM Test p-value', 'F-stat', 'F-test p-value']\n",
    "print(dict(zip(terms_alp, test_alp)))\n",
    "\n",
    "# LM Test p-value = 0.00030407066519251314 < 0.05 => we fail to accept the H0\n",
    "# (the residuals are distributed with equal variance), and assume that heteroscedasticity \n",
    "# is present."
   ]
  },
  {
   "cell_type": "code",
   "execution_count": 49,
   "id": "a2514379",
   "metadata": {},
   "outputs": [
    {
     "data": {
      "text/html": [
       "<table class=\"simpletable\">\n",
       "<caption>OLS Regression Results</caption>\n",
       "<tr>\n",
       "  <th>Dep. Variable:</th>         <td>y_alp1</td>      <th>  R-squared:         </th> <td>   0.001</td>\n",
       "</tr>\n",
       "<tr>\n",
       "  <th>Model:</th>                   <td>OLS</td>       <th>  Adj. R-squared:    </th> <td>   0.001</td>\n",
       "</tr>\n",
       "<tr>\n",
       "  <th>Method:</th>             <td>Least Squares</td>  <th>  F-statistic:       </th> <td>   2.393</td>\n",
       "</tr>\n",
       "<tr>\n",
       "  <th>Date:</th>             <td>Sun, 13 Nov 2022</td> <th>  Prob (F-statistic):</th>  <td> 0.122</td> \n",
       "</tr>\n",
       "<tr>\n",
       "  <th>Time:</th>                 <td>17:07:43</td>     <th>  Log-Likelihood:    </th> <td> -1208.6</td>\n",
       "</tr>\n",
       "<tr>\n",
       "  <th>No. Observations:</th>      <td>  2000</td>      <th>  AIC:               </th> <td>   2421.</td>\n",
       "</tr>\n",
       "<tr>\n",
       "  <th>Df Residuals:</th>          <td>  1998</td>      <th>  BIC:               </th> <td>   2432.</td>\n",
       "</tr>\n",
       "<tr>\n",
       "  <th>Df Model:</th>              <td>     1</td>      <th>                     </th>     <td> </td>   \n",
       "</tr>\n",
       "<tr>\n",
       "  <th>Covariance Type:</th>      <td>nonrobust</td>    <th>                     </th>     <td> </td>   \n",
       "</tr>\n",
       "</table>\n",
       "<table class=\"simpletable\">\n",
       "<tr>\n",
       "      <td></td>         <th>coef</th>     <th>std err</th>      <th>t</th>      <th>P>|t|</th>  <th>[0.025</th>    <th>0.975]</th>  \n",
       "</tr>\n",
       "<tr>\n",
       "  <th>Intercept</th> <td>    3.0769</td> <td>    0.030</td> <td>  100.926</td> <td> 0.000</td> <td>    3.017</td> <td>    3.137</td>\n",
       "</tr>\n",
       "<tr>\n",
       "  <th>x_alp1</th>    <td>   -0.0011</td> <td>    0.001</td> <td>   -1.547</td> <td> 0.122</td> <td>   -0.003</td> <td>    0.000</td>\n",
       "</tr>\n",
       "</table>\n",
       "<table class=\"simpletable\">\n",
       "<tr>\n",
       "  <th>Omnibus:</th>       <td>392.087</td> <th>  Durbin-Watson:     </th> <td>   2.036</td> \n",
       "</tr>\n",
       "<tr>\n",
       "  <th>Prob(Omnibus):</th> <td> 0.000</td>  <th>  Jarque-Bera (JB):  </th> <td> 748.718</td> \n",
       "</tr>\n",
       "<tr>\n",
       "  <th>Skew:</th>          <td>-1.180</td>  <th>  Prob(JB):          </th> <td>2.62e-163</td>\n",
       "</tr>\n",
       "<tr>\n",
       "  <th>Kurtosis:</th>      <td> 4.847</td>  <th>  Cond. No.          </th> <td>    129.</td> \n",
       "</tr>\n",
       "</table><br/><br/>Notes:<br/>[1] Standard Errors assume that the covariance matrix of the errors is correctly specified."
      ],
      "text/plain": [
       "<class 'statsmodels.iolib.summary.Summary'>\n",
       "\"\"\"\n",
       "                            OLS Regression Results                            \n",
       "==============================================================================\n",
       "Dep. Variable:                 y_alp1   R-squared:                       0.001\n",
       "Model:                            OLS   Adj. R-squared:                  0.001\n",
       "Method:                 Least Squares   F-statistic:                     2.393\n",
       "Date:                Sun, 13 Nov 2022   Prob (F-statistic):              0.122\n",
       "Time:                        17:07:43   Log-Likelihood:                -1208.6\n",
       "No. Observations:                2000   AIC:                             2421.\n",
       "Df Residuals:                    1998   BIC:                             2432.\n",
       "Df Model:                           1                                         \n",
       "Covariance Type:            nonrobust                                         \n",
       "==============================================================================\n",
       "                 coef    std err          t      P>|t|      [0.025      0.975]\n",
       "------------------------------------------------------------------------------\n",
       "Intercept      3.0769      0.030    100.926      0.000       3.017       3.137\n",
       "x_alp1        -0.0011      0.001     -1.547      0.122      -0.003       0.000\n",
       "==============================================================================\n",
       "Omnibus:                      392.087   Durbin-Watson:                   2.036\n",
       "Prob(Omnibus):                  0.000   Jarque-Bera (JB):              748.718\n",
       "Skew:                          -1.180   Prob(JB):                    2.62e-163\n",
       "Kurtosis:                       4.847   Cond. No.                         129.\n",
       "==============================================================================\n",
       "\n",
       "Notes:\n",
       "[1] Standard Errors assume that the covariance matrix of the errors is correctly specified.\n",
       "\"\"\""
      ]
     },
     "execution_count": 49,
     "metadata": {},
     "output_type": "execute_result"
    }
   ],
   "source": [
    "# Independent variable.\n",
    "x_alp1 = reviews_fnl['age']\n",
    "\n",
    "# Dependent variable.\n",
    "y_alp1 = reviews_fnl['loyalty_points_log10']\n",
    "\n",
    "# OLS model and summary.\n",
    "f_alp1 = 'y_alp1 ~ x_alp1'\n",
    "test_alp1 = ols(f_alp1, data=reviews_fnl).fit()\n",
    "test_alp1.summary()"
   ]
  },
  {
   "cell_type": "code",
   "execution_count": 50,
   "id": "341d0db0",
   "metadata": {},
   "outputs": [
    {
     "name": "stdout",
     "output_type": "stream",
     "text": [
      "Estimated parameters:\n",
      " Intercept    3.076916\n",
      "x_alp1      -0.001129\n",
      "dtype: float64\n",
      "\n",
      "Standard errors:\n",
      " Intercept    0.030487\n",
      "x_alp1       0.000730\n",
      "dtype: float64\n",
      "\n",
      "Predicted values:\n",
      " [3.05658701 3.05094008 3.05206946 ... 3.03851684 3.03851684 3.04077561]\n"
     ]
    }
   ],
   "source": [
    "# Extract the estimated parameters.\n",
    "print('Estimated parameters:\\n', test_alp1.params )\n",
    "\n",
    "# Extract the standard errors.\n",
    "print('\\nStandard errors:\\n', test_alp1.bse)\n",
    "\n",
    "# Extract the predicted values.\n",
    "print('\\nPredicted values:\\n', test_alp1.predict())"
   ]
  },
  {
   "cell_type": "code",
   "execution_count": 51,
   "id": "b08a05c0",
   "metadata": {},
   "outputs": [
    {
     "data": {
      "text/plain": [
       "0       3.056594\n",
       "1       3.050949\n",
       "2       3.052078\n",
       "3       3.048691\n",
       "4       3.039659\n",
       "          ...   \n",
       "1995    3.035143\n",
       "1996    3.028369\n",
       "1997    3.038530\n",
       "1998    3.038530\n",
       "1999    3.040788\n",
       "Name: age, Length: 2000, dtype: float64"
      ]
     },
     "execution_count": 51,
     "metadata": {},
     "output_type": "execute_result"
    }
   ],
   "source": [
    "# Set the X coefficient and the constant to generate the regression table.\n",
    "x_coef_alp1 = (-0.001129)\n",
    "const_alp1 = 3.076916\n",
    "y_pred_alp1 = const_alp1 + x_coef_alp1 * x_alp1\n",
    "\n",
    "# View the output.\n",
    "y_pred_alp1"
   ]
  },
  {
   "cell_type": "code",
   "execution_count": 52,
   "id": "52c8a7e8",
   "metadata": {},
   "outputs": [
    {
     "data": {
      "image/png": "[encoded data removed]",
      "text/plain": [
       "<Figure size 432x288 with 1 Axes>"
      ]
     },
     "metadata": {
      "needs_background": "light"
     },
     "output_type": "display_data"
    }
   ],
   "source": [
    "# Plot the graph with a regression line.\n",
    "plt.scatter(x_alp1, y_alp1)\n",
    "\n",
    "plt.plot(x_alp1, y_pred_alp1, color='red')\n",
    "\n",
    "plt.xlim(0)\n",
    "plt.ylim(0)\n",
    "\n",
    "# View the plot.\n",
    "plt.show()"
   ]
  },
  {
   "cell_type": "code",
   "execution_count": 53,
   "id": "382524cc",
   "metadata": {},
   "outputs": [
    {
     "name": "stdout",
     "output_type": "stream",
     "text": [
      "{'LM stat': 1.9037817803251311, 'LM Test p-value': 0.16765562765447406, 'F-stat': 1.9036901038123868, 'F-test p-value': 0.16782024254716696}\n"
     ]
    }
   ],
   "source": [
    "# Check for heteroscedasticity:\n",
    "# Run the Breusch-Pagan test function on the model residuals and x-variables.\n",
    "test_alp1 = sms.het_breuschpagan(test_alp1.resid, test_alp1.model.exog)\n",
    "\n",
    "# Print the results of the Breusch-Pagan test.\n",
    "terms_alp1 = ['LM stat', 'LM Test p-value', 'F-stat', 'F-test p-value']\n",
    "print(dict(zip(terms_alp1, test_alp1)))\n",
    "\n",
    "# LM Test p-value = 0.16765562765447406 > 0.05 => we fail to reject the H0\n",
    "# (the residuals are distributed with equal variance), and assume homoscedasticity."
   ]
  },
  {
   "cell_type": "markdown",
   "id": "640ee6ff",
   "metadata": {},
   "source": [
    "### Additional question: a) annual income (k£) vs spending score"
   ]
  },
  {
   "cell_type": "code",
   "execution_count": 54,
   "id": "a6001aa1",
   "metadata": {},
   "outputs": [
    {
     "data": {
      "text/html": [
       "<table class=\"simpletable\">\n",
       "<caption>OLS Regression Results</caption>\n",
       "<tr>\n",
       "  <th>Dep. Variable:</th>         <td>y_aiss</td>      <th>  R-squared:         </th> <td>   0.000</td> \n",
       "</tr>\n",
       "<tr>\n",
       "  <th>Model:</th>                   <td>OLS</td>       <th>  Adj. R-squared:    </th> <td>  -0.000</td> \n",
       "</tr>\n",
       "<tr>\n",
       "  <th>Method:</th>             <td>Least Squares</td>  <th>  F-statistic:       </th> <td> 0.06294</td> \n",
       "</tr>\n",
       "<tr>\n",
       "  <th>Date:</th>             <td>Sun, 13 Nov 2022</td> <th>  Prob (F-statistic):</th>  <td> 0.802</td>  \n",
       "</tr>\n",
       "<tr>\n",
       "  <th>Time:</th>                 <td>17:07:44</td>     <th>  Log-Likelihood:    </th> <td> -9360.8</td> \n",
       "</tr>\n",
       "<tr>\n",
       "  <th>No. Observations:</th>      <td>  2000</td>      <th>  AIC:               </th> <td>1.873e+04</td>\n",
       "</tr>\n",
       "<tr>\n",
       "  <th>Df Residuals:</th>          <td>  1998</td>      <th>  BIC:               </th> <td>1.874e+04</td>\n",
       "</tr>\n",
       "<tr>\n",
       "  <th>Df Model:</th>              <td>     1</td>      <th>                     </th>     <td> </td>    \n",
       "</tr>\n",
       "<tr>\n",
       "  <th>Covariance Type:</th>      <td>nonrobust</td>    <th>                     </th>     <td> </td>    \n",
       "</tr>\n",
       "</table>\n",
       "<table class=\"simpletable\">\n",
       "<tr>\n",
       "      <td></td>         <th>coef</th>     <th>std err</th>      <th>t</th>      <th>P>|t|</th>  <th>[0.025</th>    <th>0.975]</th>  \n",
       "</tr>\n",
       "<tr>\n",
       "  <th>Intercept</th> <td>   49.6955</td> <td>    1.347</td> <td>   36.899</td> <td> 0.000</td> <td>   47.054</td> <td>   52.337</td>\n",
       "</tr>\n",
       "<tr>\n",
       "  <th>x_aiss</th>    <td>    0.0063</td> <td>    0.025</td> <td>    0.251</td> <td> 0.802</td> <td>   -0.043</td> <td>    0.056</td>\n",
       "</tr>\n",
       "</table>\n",
       "<table class=\"simpletable\">\n",
       "<tr>\n",
       "  <th>Omnibus:</th>       <td>256.861</td> <th>  Durbin-Watson:     </th> <td>   3.699</td>\n",
       "</tr>\n",
       "<tr>\n",
       "  <th>Prob(Omnibus):</th> <td> 0.000</td>  <th>  Jarque-Bera (JB):  </th> <td>  66.806</td>\n",
       "</tr>\n",
       "<tr>\n",
       "  <th>Skew:</th>          <td>-0.044</td>  <th>  Prob(JB):          </th> <td>3.11e-15</td>\n",
       "</tr>\n",
       "<tr>\n",
       "  <th>Kurtosis:</th>      <td> 2.109</td>  <th>  Cond. No.          </th> <td>    123.</td>\n",
       "</tr>\n",
       "</table><br/><br/>Notes:<br/>[1] Standard Errors assume that the covariance matrix of the errors is correctly specified."
      ],
      "text/plain": [
       "<class 'statsmodels.iolib.summary.Summary'>\n",
       "\"\"\"\n",
       "                            OLS Regression Results                            \n",
       "==============================================================================\n",
       "Dep. Variable:                 y_aiss   R-squared:                       0.000\n",
       "Model:                            OLS   Adj. R-squared:                 -0.000\n",
       "Method:                 Least Squares   F-statistic:                   0.06294\n",
       "Date:                Sun, 13 Nov 2022   Prob (F-statistic):              0.802\n",
       "Time:                        17:07:44   Log-Likelihood:                -9360.8\n",
       "No. Observations:                2000   AIC:                         1.873e+04\n",
       "Df Residuals:                    1998   BIC:                         1.874e+04\n",
       "Df Model:                           1                                         \n",
       "Covariance Type:            nonrobust                                         \n",
       "==============================================================================\n",
       "                 coef    std err          t      P>|t|      [0.025      0.975]\n",
       "------------------------------------------------------------------------------\n",
       "Intercept     49.6955      1.347     36.899      0.000      47.054      52.337\n",
       "x_aiss         0.0063      0.025      0.251      0.802      -0.043       0.056\n",
       "==============================================================================\n",
       "Omnibus:                      256.861   Durbin-Watson:                   3.699\n",
       "Prob(Omnibus):                  0.000   Jarque-Bera (JB):               66.806\n",
       "Skew:                          -0.044   Prob(JB):                     3.11e-15\n",
       "Kurtosis:                       2.109   Cond. No.                         123.\n",
       "==============================================================================\n",
       "\n",
       "Notes:\n",
       "[1] Standard Errors assume that the covariance matrix of the errors is correctly specified.\n",
       "\"\"\""
      ]
     },
     "execution_count": 54,
     "metadata": {},
     "output_type": "execute_result"
    }
   ],
   "source": [
    "# Independent variable.\n",
    "x_aiss = reviews_fnl['annual_income (k£)']\n",
    "\n",
    "# Dependent variable.\n",
    "y_aiss = reviews_fnl['spending_score']\n",
    "\n",
    "# OLS model and summary.\n",
    "f_aiss = 'y_aiss ~ x_aiss'\n",
    "test_aiss = ols(f_aiss, data=reviews_fnl).fit()\n",
    "test_aiss.summary()"
   ]
  },
  {
   "cell_type": "code",
   "execution_count": 55,
   "id": "083c268d",
   "metadata": {},
   "outputs": [
    {
     "name": "stdout",
     "output_type": "stream",
     "text": [
      "Estimated parameters:\n",
      " Intercept    49.695490\n",
      "x_aiss        0.006334\n",
      "dtype: float64\n",
      "\n",
      "Standard errors:\n",
      " Intercept    1.346809\n",
      "x_aiss       0.025246\n",
      "dtype: float64\n",
      "\n",
      "Predicted values:\n",
      " [49.77339247 49.77339247 49.77858596 ... 50.28235444 50.31870887\n",
      " 50.28235444]\n"
     ]
    }
   ],
   "source": [
    "# Extract the estimated parameters.\n",
    "print('Estimated parameters:\\n', test_aiss.params )\n",
    "\n",
    "# Extract the standard errors.\n",
    "print('\\nStandard errors:\\n', test_aiss.bse)\n",
    "\n",
    "# Extract the predicted values.\n",
    "print('\\nPredicted values:\\n', test_aiss.predict())"
   ]
  },
  {
   "cell_type": "code",
   "execution_count": 56,
   "id": "198fd038",
   "metadata": {},
   "outputs": [
    {
     "data": {
      "text/plain": [
       "0       49.773398\n",
       "1       49.773398\n",
       "2       49.778592\n",
       "3       49.778592\n",
       "4       49.783786\n",
       "          ...    \n",
       "1995    50.230460\n",
       "1996    50.282398\n",
       "1997    50.282398\n",
       "1998    50.318756\n",
       "1999    50.282398\n",
       "Name: annual_income (k£), Length: 2000, dtype: float64"
      ]
     },
     "execution_count": 56,
     "metadata": {},
     "output_type": "execute_result"
    }
   ],
   "source": [
    "# Set the X coefficient and the constant to generate the regression table.\n",
    "x_coef_aiss = 0.006334\n",
    "const_aiss = 49.695490\n",
    "y_pred_aiss = const_aiss + x_coef_aiss * x_aiss\n",
    "\n",
    "# View the output.\n",
    "y_pred_aiss"
   ]
  },
  {
   "cell_type": "code",
   "execution_count": 57,
   "id": "2032108e",
   "metadata": {},
   "outputs": [
    {
     "data": {
      "image/png": "[encoded data removed]",
      "text/plain": [
       "<Figure size 432x288 with 1 Axes>"
      ]
     },
     "metadata": {
      "needs_background": "light"
     },
     "output_type": "display_data"
    }
   ],
   "source": [
    "# Plot the graph with a regression line.\n",
    "plt.scatter(x_aiss, y_aiss)\n",
    "\n",
    "plt.plot(x_aiss, y_pred_aiss, color='red')\n",
    "\n",
    "plt.xlim(0)\n",
    "plt.ylim(0)\n",
    "\n",
    "# View the plot.\n",
    "plt.show()"
   ]
  },
  {
   "cell_type": "markdown",
   "id": "748c49a5",
   "metadata": {},
   "source": [
    "### Additional question: b) spending score and annual income (k£) vs loyalty points"
   ]
  },
  {
   "cell_type": "code",
   "execution_count": 58,
   "id": "3017d471",
   "metadata": {},
   "outputs": [
    {
     "data": {
      "text/html": [
       "<table class=\"simpletable\">\n",
       "<caption>OLS Regression Results</caption>\n",
       "<tr>\n",
       "  <th>Dep. Variable:</th>         <td>y_salp</td>      <th>  R-squared:         </th> <td>   0.827</td> \n",
       "</tr>\n",
       "<tr>\n",
       "  <th>Model:</th>                   <td>OLS</td>       <th>  Adj. R-squared:    </th> <td>   0.827</td> \n",
       "</tr>\n",
       "<tr>\n",
       "  <th>Method:</th>             <td>Least Squares</td>  <th>  F-statistic:       </th> <td>   4770.</td> \n",
       "</tr>\n",
       "<tr>\n",
       "  <th>Date:</th>             <td>Sun, 13 Nov 2022</td> <th>  Prob (F-statistic):</th>  <td>  0.00</td>  \n",
       "</tr>\n",
       "<tr>\n",
       "  <th>Time:</th>                 <td>17:07:44</td>     <th>  Log-Likelihood:    </th> <td> -15398.</td> \n",
       "</tr>\n",
       "<tr>\n",
       "  <th>No. Observations:</th>      <td>  2000</td>      <th>  AIC:               </th> <td>3.080e+04</td>\n",
       "</tr>\n",
       "<tr>\n",
       "  <th>Df Residuals:</th>          <td>  1997</td>      <th>  BIC:               </th> <td>3.082e+04</td>\n",
       "</tr>\n",
       "<tr>\n",
       "  <th>Df Model:</th>              <td>     2</td>      <th>                     </th>     <td> </td>    \n",
       "</tr>\n",
       "<tr>\n",
       "  <th>Covariance Type:</th>      <td>nonrobust</td>    <th>                     </th>     <td> </td>    \n",
       "</tr>\n",
       "</table>\n",
       "<table class=\"simpletable\">\n",
       "<tr>\n",
       "      <td></td>         <th>coef</th>     <th>std err</th>      <th>t</th>      <th>P>|t|</th>  <th>[0.025</th>    <th>0.975]</th>  \n",
       "</tr>\n",
       "<tr>\n",
       "  <th>Intercept</th> <td>-1700.3051</td> <td>   35.740</td> <td>  -47.575</td> <td> 0.000</td> <td>-1770.396</td> <td>-1630.214</td>\n",
       "</tr>\n",
       "<tr>\n",
       "  <th>X_salp[0]</th> <td>   32.8927</td> <td>    0.458</td> <td>   71.845</td> <td> 0.000</td> <td>   31.995</td> <td>   33.791</td>\n",
       "</tr>\n",
       "<tr>\n",
       "  <th>X_salp[1]</th> <td>   33.9795</td> <td>    0.517</td> <td>   65.769</td> <td> 0.000</td> <td>   32.966</td> <td>   34.993</td>\n",
       "</tr>\n",
       "</table>\n",
       "<table class=\"simpletable\">\n",
       "<tr>\n",
       "  <th>Omnibus:</th>       <td> 4.723</td> <th>  Durbin-Watson:     </th> <td>   3.477</td>\n",
       "</tr>\n",
       "<tr>\n",
       "  <th>Prob(Omnibus):</th> <td> 0.094</td> <th>  Jarque-Bera (JB):  </th> <td>   4.650</td>\n",
       "</tr>\n",
       "<tr>\n",
       "  <th>Skew:</th>          <td> 0.103</td> <th>  Prob(JB):          </th> <td>  0.0978</td>\n",
       "</tr>\n",
       "<tr>\n",
       "  <th>Kurtosis:</th>      <td> 3.115</td> <th>  Cond. No.          </th> <td>    220.</td>\n",
       "</tr>\n",
       "</table><br/><br/>Notes:<br/>[1] Standard Errors assume that the covariance matrix of the errors is correctly specified."
      ],
      "text/plain": [
       "<class 'statsmodels.iolib.summary.Summary'>\n",
       "\"\"\"\n",
       "                            OLS Regression Results                            \n",
       "==============================================================================\n",
       "Dep. Variable:                 y_salp   R-squared:                       0.827\n",
       "Model:                            OLS   Adj. R-squared:                  0.827\n",
       "Method:                 Least Squares   F-statistic:                     4770.\n",
       "Date:                Sun, 13 Nov 2022   Prob (F-statistic):               0.00\n",
       "Time:                        17:07:44   Log-Likelihood:                -15398.\n",
       "No. Observations:                2000   AIC:                         3.080e+04\n",
       "Df Residuals:                    1997   BIC:                         3.082e+04\n",
       "Df Model:                           2                                         \n",
       "Covariance Type:            nonrobust                                         \n",
       "==============================================================================\n",
       "                 coef    std err          t      P>|t|      [0.025      0.975]\n",
       "------------------------------------------------------------------------------\n",
       "Intercept  -1700.3051     35.740    -47.575      0.000   -1770.396   -1630.214\n",
       "X_salp[0]     32.8927      0.458     71.845      0.000      31.995      33.791\n",
       "X_salp[1]     33.9795      0.517     65.769      0.000      32.966      34.993\n",
       "==============================================================================\n",
       "Omnibus:                        4.723   Durbin-Watson:                   3.477\n",
       "Prob(Omnibus):                  0.094   Jarque-Bera (JB):                4.650\n",
       "Skew:                           0.103   Prob(JB):                       0.0978\n",
       "Kurtosis:                       3.115   Cond. No.                         220.\n",
       "==============================================================================\n",
       "\n",
       "Notes:\n",
       "[1] Standard Errors assume that the covariance matrix of the errors is correctly specified.\n",
       "\"\"\""
      ]
     },
     "execution_count": 58,
     "metadata": {},
     "output_type": "execute_result"
    }
   ],
   "source": [
    "# Define the independent variable.\n",
    "X_salp = reviews_fnl[['spending_score', 'annual_income (k£)']] \n",
    "\n",
    "# Define the dependent variable.\n",
    "y_salp = reviews_fnl['loyalty_points'] \n",
    "\n",
    "# OLS model and summary.\n",
    "f_salp = 'y_salp ~ X_salp'\n",
    "test_salp = ols(f_salp, data=reviews_fnl).fit()\n",
    "test_salp.summary()"
   ]
  },
  {
   "cell_type": "code",
   "execution_count": 59,
   "id": "f773d6c8",
   "metadata": {},
   "outputs": [
    {
     "name": "stdout",
     "output_type": "stream",
     "text": [
      "Estimated parameters:\n",
      " Intercept   -1700.305097\n",
      "X_salp[0]      32.892695\n",
      "X_salp[1]      33.979499\n",
      "dtype: float64\n",
      "\n",
      "Standard errors:\n",
      " Intercept    35.739558\n",
      "X_salp[0]     0.457831\n",
      "X_salp[1]     0.516648\n",
      "dtype: float64\n",
      "\n",
      "Predicted values:\n",
      " [ 4.57831319e-01  1.38195101e+03 -1.05713790e+03 ...  4.44147048e+03\n",
      "  2.16956070e+03  1.71137682e+03]\n"
     ]
    }
   ],
   "source": [
    "# Extract the estimated parameters.\n",
    "print('Estimated parameters:\\n', test_salp.params )\n",
    "\n",
    "# Extract the standard errors.\n",
    "print('\\nStandard errors:\\n', test_salp.bse)\n",
    "\n",
    "# Extract the predicted values.\n",
    "print('\\nPredicted values:\\n', test_salp.predict())"
   ]
  },
  {
   "cell_type": "code",
   "execution_count": 60,
   "id": "0d734a46",
   "metadata": {},
   "outputs": [
    {
     "name": "stdout",
     "output_type": "stream",
     "text": [
      "   VIF Factor            features\n",
      "0        8.95               const\n",
      "1        1.00      spending_score\n",
      "2        1.00  annual_income (k£)\n"
     ]
    }
   ],
   "source": [
    "# Check for multicollinearity:\n",
    "# Add a constant.\n",
    "x_temp = sm.add_constant(X_salp)  \n",
    "\n",
    "# Create an empty DataFrame. \n",
    "vif = pd.DataFrame() \n",
    "\n",
    "# Calculate the 'vif' for each value.\n",
    "vif[\"VIF Factor\"] = [variance_inflation_factor(x_temp.values, \n",
    "                                               i) for i in range(x_temp.values.shape[1])]  \n",
    "\n",
    "\n",
    "# Create the feature columns.\n",
    "vif['features'] = x_temp.columns  \n",
    "\n",
    "# Print the values to two decimal points.\n",
    "print(vif.round(2))  \n",
    "\n",
    "# VIF Factors for spending score and annual income = 1 => no correlation between independent\n",
    "# variables. "
   ]
  },
  {
   "cell_type": "code",
   "execution_count": 61,
   "id": "b894599b",
   "metadata": {},
   "outputs": [
    {
     "name": "stdout",
     "output_type": "stream",
     "text": [
      "{'LM stat': 53.726566730470935, 'LM Test p-value': 2.154885846504576e-12, 'F-stat': 27.56343274452234, 'F-test p-value': 1.5545263629723393e-12}\n"
     ]
    }
   ],
   "source": [
    "# Check for heteroscedasticity:\n",
    "# Run the Breusch-Pagan test function on the model residuals and x-variables.\n",
    "test_salp = sms.het_breuschpagan(test_salp.resid, test_salp.model.exog)\n",
    "\n",
    "# Print the results of the Breusch-Pagan test.\n",
    "terms_salp = ['LM stat', 'LM Test p-value', 'F-stat', 'F-test p-value']\n",
    "print(dict(zip(terms_salp, test_salp)))\n",
    "\n",
    "# LM Test p-value = 2.154885846504576e-12 < 0.05 => we fail to accept the H0\n",
    "# (the residuals are distributed with equal variance), and assume that heteroscedasticity \n",
    "# is present."
   ]
  },
  {
   "cell_type": "code",
   "execution_count": 62,
   "id": "4aa126d7",
   "metadata": {},
   "outputs": [
    {
     "data": {
      "text/html": [
       "<table class=\"simpletable\">\n",
       "<caption>OLS Regression Results</caption>\n",
       "<tr>\n",
       "  <th>Dep. Variable:</th>         <td>y_salp1</td>     <th>  R-squared:         </th> <td>   0.799</td>\n",
       "</tr>\n",
       "<tr>\n",
       "  <th>Model:</th>                   <td>OLS</td>       <th>  Adj. R-squared:    </th> <td>   0.799</td>\n",
       "</tr>\n",
       "<tr>\n",
       "  <th>Method:</th>             <td>Least Squares</td>  <th>  F-statistic:       </th> <td>   3965.</td>\n",
       "</tr>\n",
       "<tr>\n",
       "  <th>Date:</th>             <td>Sun, 13 Nov 2022</td> <th>  Prob (F-statistic):</th>  <td>  0.00</td> \n",
       "</tr>\n",
       "<tr>\n",
       "  <th>Time:</th>                 <td>17:07:44</td>     <th>  Log-Likelihood:    </th> <td>  393.90</td>\n",
       "</tr>\n",
       "<tr>\n",
       "  <th>No. Observations:</th>      <td>  2000</td>      <th>  AIC:               </th> <td>  -781.8</td>\n",
       "</tr>\n",
       "<tr>\n",
       "  <th>Df Residuals:</th>          <td>  1997</td>      <th>  BIC:               </th> <td>  -765.0</td>\n",
       "</tr>\n",
       "<tr>\n",
       "  <th>Df Model:</th>              <td>     2</td>      <th>                     </th>     <td> </td>   \n",
       "</tr>\n",
       "<tr>\n",
       "  <th>Covariance Type:</th>      <td>nonrobust</td>    <th>                     </th>     <td> </td>   \n",
       "</tr>\n",
       "</table>\n",
       "<table class=\"simpletable\">\n",
       "<tr>\n",
       "       <td></td>         <th>coef</th>     <th>std err</th>      <th>t</th>      <th>P>|t|</th>  <th>[0.025</th>    <th>0.975]</th>  \n",
       "</tr>\n",
       "<tr>\n",
       "  <th>Intercept</th>  <td>    1.9355</td> <td>    0.013</td> <td>  145.462</td> <td> 0.000</td> <td>    1.909</td> <td>    1.962</td>\n",
       "</tr>\n",
       "<tr>\n",
       "  <th>X_salp1[0]</th> <td>    0.0122</td> <td>    0.000</td> <td>   71.461</td> <td> 0.000</td> <td>    0.012</td> <td>    0.013</td>\n",
       "</tr>\n",
       "<tr>\n",
       "  <th>X_salp1[1]</th> <td>    0.0101</td> <td>    0.000</td> <td>   52.741</td> <td> 0.000</td> <td>    0.010</td> <td>    0.011</td>\n",
       "</tr>\n",
       "</table>\n",
       "<table class=\"simpletable\">\n",
       "<tr>\n",
       "  <th>Omnibus:</th>       <td>577.517</td> <th>  Durbin-Watson:     </th> <td>   1.183</td>\n",
       "</tr>\n",
       "<tr>\n",
       "  <th>Prob(Omnibus):</th> <td> 0.000</td>  <th>  Jarque-Bera (JB):  </th> <td>1749.729</td>\n",
       "</tr>\n",
       "<tr>\n",
       "  <th>Skew:</th>          <td>-1.465</td>  <th>  Prob(JB):          </th> <td>    0.00</td>\n",
       "</tr>\n",
       "<tr>\n",
       "  <th>Kurtosis:</th>      <td> 6.524</td>  <th>  Cond. No.          </th> <td>    220.</td>\n",
       "</tr>\n",
       "</table><br/><br/>Notes:<br/>[1] Standard Errors assume that the covariance matrix of the errors is correctly specified."
      ],
      "text/plain": [
       "<class 'statsmodels.iolib.summary.Summary'>\n",
       "\"\"\"\n",
       "                            OLS Regression Results                            \n",
       "==============================================================================\n",
       "Dep. Variable:                y_salp1   R-squared:                       0.799\n",
       "Model:                            OLS   Adj. R-squared:                  0.799\n",
       "Method:                 Least Squares   F-statistic:                     3965.\n",
       "Date:                Sun, 13 Nov 2022   Prob (F-statistic):               0.00\n",
       "Time:                        17:07:44   Log-Likelihood:                 393.90\n",
       "No. Observations:                2000   AIC:                            -781.8\n",
       "Df Residuals:                    1997   BIC:                            -765.0\n",
       "Df Model:                           2                                         \n",
       "Covariance Type:            nonrobust                                         \n",
       "==============================================================================\n",
       "                 coef    std err          t      P>|t|      [0.025      0.975]\n",
       "------------------------------------------------------------------------------\n",
       "Intercept      1.9355      0.013    145.462      0.000       1.909       1.962\n",
       "X_salp1[0]     0.0122      0.000     71.461      0.000       0.012       0.013\n",
       "X_salp1[1]     0.0101      0.000     52.741      0.000       0.010       0.011\n",
       "==============================================================================\n",
       "Omnibus:                      577.517   Durbin-Watson:                   1.183\n",
       "Prob(Omnibus):                  0.000   Jarque-Bera (JB):             1749.729\n",
       "Skew:                          -1.465   Prob(JB):                         0.00\n",
       "Kurtosis:                       6.524   Cond. No.                         220.\n",
       "==============================================================================\n",
       "\n",
       "Notes:\n",
       "[1] Standard Errors assume that the covariance matrix of the errors is correctly specified.\n",
       "\"\"\""
      ]
     },
     "execution_count": 62,
     "metadata": {},
     "output_type": "execute_result"
    }
   ],
   "source": [
    "# Define the independent variable.\n",
    "X_salp1 = reviews_fnl[['spending_score', 'annual_income (k£)']] \n",
    "\n",
    "# Define the dependent variable.\n",
    "y_salp1 = reviews_fnl['loyalty_points_log10'] \n",
    "\n",
    "# OLS model and summary.\n",
    "f_salp1 = 'y_salp1 ~ X_salp1'\n",
    "test_salp1 = ols(f_salp1, data=reviews_fnl).fit()\n",
    "test_salp1.summary()"
   ]
  },
  {
   "cell_type": "code",
   "execution_count": 63,
   "id": "9d9a37df",
   "metadata": {},
   "outputs": [
    {
     "name": "stdout",
     "output_type": "stream",
     "text": [
      "{'LM stat': 158.57636939286434, 'LM Test p-value': 3.677722072049437e-35, 'F-stat': 85.98700603541694, 'F-test p-value': 1.5049803293123268e-36}\n"
     ]
    }
   ],
   "source": [
    "# Check for heteroscedasticity:\n",
    "# Run the Breusch-Pagan test function on the model residuals and x-variables.\n",
    "test_salp1 = sms.het_breuschpagan(test_salp1.resid, test_salp1.model.exog)\n",
    "\n",
    "# Print the results of the Breusch-Pagan test.\n",
    "terms_salp1 = ['LM stat', 'LM Test p-value', 'F-stat', 'F-test p-value']\n",
    "print(dict(zip(terms_salp1, test_salp1)))\n",
    "\n",
    "# LM Test p-value = 3.677722072049437e-35 < 0.05 => we fail to accept the H0\n",
    "# (the residuals are distributed with equal variance), and assume that heteroscedasticity \n",
    "# is present."
   ]
  },
  {
   "cell_type": "markdown",
   "id": "df1fa5b5-ca8f-4ee8-a22e-532142d5cf52",
   "metadata": {},
   "source": [
    "## 6. Observations and insights"
   ]
  },
  {
   "cell_type": "markdown",
   "id": "713d8150-b5e5-4b96-b138-3437158bc020",
   "metadata": {},
   "source": [
    "**Spending score vs loyalty points:**\n",
    "\n",
    "Despite the overall positive relationship between spending score and loyalty points variables, the high level of heteroskedasticity in the residuals made the regression model estimators inefficient. The decision was made to split the data set into two groups: spending score <= 60 and spending score > 60:\n",
    "\n",
    "**a) spending score (<= 60) vs loyalty points:**\n",
    "\n",
    "R-squared = 0.601 => 60.1% of the total variability of y (loyalty points), is explained by the variability of x (spending score (<= 60));\n",
    "\n",
    "Prob (F-statistic) = 1.74e-274 => this is p-value; it is less than 0.05. Therefore, the p-value is significant (observed difference could not have happened by chance);\n",
    "\n",
    "Coefficient of x = 25.5150 => if the spending score (<= 60) (x) increases by 1 unit, the number of loyalty points (y) will increase by 25.5150 units;\n",
    "\n",
    "t-value tests (P>|t|) = 0 => it is < 0.05, thus the estimated slope is significant.\n",
    "\n",
    "[0.025\t0.975] describe the 95% confidence interval of the true x coefficient, i.e. the true slope. For instance, if we take a different sample, the estimated slope will be slightly different. If we take 100 random samples each of 500 observations of x and y, then 95 out of the 100 samples will derive a slope that is within the interval (24.411, 26.619).\n",
    "\n",
    "**b) spending score (> 60) vs log10 of loyalty points:**\n",
    "\n",
    "High level of heteroskedasticity in the residuals was detected when a relationship between spending score (> 60) and loyalty points variables was investigated. It was fixed by using a log transformation on the dependent variable (loyalty points).\n",
    "\n",
    "R-squared = 0.068 => 6.8% of the total variability of y (log10 of loyalty points), is explained by the variability of x (spending score (> 60));\n",
    "\n",
    "Prob (F-statistic) = 2.37e-11 => this is p-value; it is less than 0.05. Therefore, the p-value is significant (observed difference could not have happened by chance);\n",
    "\n",
    "Coefficient of x = 0.0085 => if the spending score (> 60) (x) increases by 1 unit, the log10 of loyalty points (y) will increase by 0.0085 units;\n",
    "\n",
    "t-value tests (P>|t|) = 0 => it is < 0.05, thus the estimated slope is significant.\n",
    "\n",
    "[0.025\t0.975] describe the 95% confidence interval of the true x coefficient, i.e. the true slope. For instance, if we take a different sample, the estimated slope will be slightly different. If we take 100 random samples each of 500 observations of x and y, then 95 out of the 100 samples will derive a slope that is within the interval (0.006, 0.011).\n",
    "\n",
    "**Annual income vs log10 of loyalty points:**\n",
    "\n",
    "High level of heteroskedasticity in the residuals was detected when a relationship between annual income and loyalty points variables was investigated. It was fixed by using a log transformation on the dependent variable (loyalty points).\n",
    "\n",
    "R-squared = 0.284 => 28.4% of the total variability of y (loyalty points), is explained by the variability of x (annual income);\n",
    "\n",
    "Prob (F-statistic) = 1.98e-147 => this is p-value; it is less than 0.05. Therefore, the p-value is significant (observed difference could not have happened by chance);\n",
    "\n",
    "Coefficient of x = 0.0102 => if the annual income (x) increases by 1 unit (= £1,000), the log10 of loyalty points (y) will increase by 0.0102 units;\n",
    "\n",
    "t-value tests (P>|t|) = 0 => it is < 0.05, thus the estimated slope is significant.\n",
    "\n",
    "[0.025\t0.975] describe the 95% confidence interval of the true x coefficient, i.e. the true slope. For instance, if we take a different sample, the estimated slope will be slightly different. If we take 100 random samples each of 500 observations of x and y, then 95 out of the 100 samples will derive a slope that is within the interval (0.010, 0.011).\n",
    "\n",
    "**Age vs log10 of loyalty points:**\n",
    "\n",
    "High level of heteroskedasticity in the residuals was detected when a relationship between age and loyalty points variables was investigated. It was fixed by using a log transformation on the dependent variable (loyalty points).\n",
    "\n",
    "R-squared = 0.001 => 0.1% of the total variability of y (log10 of loyalty points), is explained by the variability of x (age);\n",
    "\n",
    "Prob (F-statistic) = 0.122 => this is p-value; it is more than 0.05. Therefore, the p-value is insignificant (observed difference could have happened by chance);\n",
    "\n",
    "Coefficient of x = -0.0011 => if the age (x) increases by 1 unit (= 1 year), the log10 of loyalty points (y) will decrease by 0.0011 units;\n",
    "\n",
    "t-value tests (P>|t|) = -1.547 => it is < 0.05, thus the estimated slope is significant.\n",
    "\n",
    "[0.025\t0.975] describe the 95% confidence interval of the true x coefficient, i.e. the true slope. For instance, if we take a different sample, the estimated slope will be slightly different. If we take 100 random samples each of 500 observations of x and y, then 95 out of the 100 samples will derive a slope that is within the interval (-0.003, 0.000)."
   ]
  },
  {
   "cell_type": "markdown",
   "id": "b0e28c75",
   "metadata": {},
   "source": [
    "# "
   ]
  },
  {
   "cell_type": "markdown",
   "id": "a7c924ec",
   "metadata": {},
   "source": [
    "# Week 2 assignment: Clustering with *k*-means using Python\n",
    "\n",
    "The marketing department also wants to better understand the usefulness of renumeration and spending scores but do not know where to begin. You are tasked to identify groups within the customer base that can be used to target specific market segments. Use *k*-means clustering to identify the optimal number of clusters and then apply and plot the data using the created segments.\n",
    "\n",
    "## Instructions\n",
    "1. Prepare the data for clustering. \n",
    "    1. Import the CSV file you have prepared in Week 1.\n",
    "    2. Create a new DataFrame (e.g. `df2`) containing the `renumeration` and `spending_score` columns.\n",
    "    3. Explore the new DataFrame. \n",
    "2. Plot the renumeration versus spending score.\n",
    "    1. Create a scatterplot.\n",
    "    2. Create a pairplot.\n",
    "3. Use the Silhouette and Elbow methods to determine the optimal number of clusters for *k*-means clustering.\n",
    "    1. Plot both methods and explain how you determine the number of clusters to use.\n",
    "    2. Add titles and legends to the plot.\n",
    "4. Evaluate the usefulness of at least three values for *k* based on insights from the Elbow and Silhoutte methods.\n",
    "    1. Plot the predicted *k*-means.\n",
    "    2. Explain which value might give you the best clustering.\n",
    "5. Fit a final model using your selected value for *k*.\n",
    "    1. Justify your selection and comment on the respective cluster sizes of your final solution.\n",
    "    2. Check the number of observations per predicted class.\n",
    "6. Plot the clusters and interpret the model."
   ]
  },
  {
   "cell_type": "markdown",
   "id": "e4e7299b",
   "metadata": {},
   "source": [
    "## 1. Load and explore the data"
   ]
  },
  {
   "cell_type": "code",
   "execution_count": 64,
   "id": "ae1dc705",
   "metadata": {},
   "outputs": [],
   "source": [
    "# Import necessary libraries.\n",
    "import numpy as np\n",
    "import pandas as pd\n",
    "import matplotlib.pyplot as plt\n",
    "import matplotlib.cm as cm\n",
    "import seaborn as sns\n",
    "\n",
    "from sklearn.preprocessing import StandardScaler\n",
    "from sklearn.cluster import KMeans\n",
    "from sklearn.metrics import silhouette_score\n",
    "from sklearn.metrics import accuracy_score\n",
    "from scipy.spatial.distance import cdist\n",
    "\n",
    "import warnings\n",
    "warnings.filterwarnings('ignore')"
   ]
  },
  {
   "cell_type": "code",
   "execution_count": 65,
   "id": "2645d45c",
   "metadata": {},
   "outputs": [],
   "source": [
    "# Load the CSV file(s) as df2.\n",
    "\n",
    "\n",
    "# View DataFrame.\n"
   ]
  },
  {
   "cell_type": "code",
   "execution_count": 66,
   "id": "4317dbb3-bab1-4ad3-9c43-ee9af8ffcc0d",
   "metadata": {},
   "outputs": [],
   "source": [
    "# Drop unnecessary columns.\n",
    "\n",
    "\n",
    "# View DataFrame.\n"
   ]
  },
  {
   "cell_type": "code",
   "execution_count": 67,
   "id": "8f98e886",
   "metadata": {},
   "outputs": [],
   "source": [
    "# Explore the data.\n"
   ]
  },
  {
   "cell_type": "code",
   "execution_count": 68,
   "id": "ed6e10d6",
   "metadata": {},
   "outputs": [],
   "source": [
    "# Descriptive statistics.\n"
   ]
  },
  {
   "cell_type": "markdown",
   "id": "3f971229",
   "metadata": {},
   "source": [
    "## 2. Plot"
   ]
  },
  {
   "cell_type": "code",
   "execution_count": 69,
   "id": "f38a5b58",
   "metadata": {},
   "outputs": [],
   "source": [
    "# Create a scatterplot with Seaborn.\n"
   ]
  },
  {
   "cell_type": "code",
   "execution_count": 70,
   "id": "600783ce-5a91-4ca8-993f-29499fcc4918",
   "metadata": {},
   "outputs": [],
   "source": [
    "# Create a pairplot with Seaborn.\n"
   ]
  },
  {
   "cell_type": "markdown",
   "id": "c3d64b28-fc72-4633-af71-2040de573ece",
   "metadata": {},
   "source": [
    "## 3. Elbow and silhoutte methods"
   ]
  },
  {
   "cell_type": "code",
   "execution_count": 71,
   "id": "dbd0290f",
   "metadata": {},
   "outputs": [],
   "source": [
    "# Determine the number of clusters: Elbow method.\n"
   ]
  },
  {
   "cell_type": "code",
   "execution_count": 72,
   "id": "ce995702",
   "metadata": {},
   "outputs": [],
   "source": [
    "# Determine the number of clusters: Silhouette method.\n"
   ]
  },
  {
   "cell_type": "markdown",
   "id": "8e0fd764",
   "metadata": {},
   "source": [
    "## 4. Evaluate k-means model at different values of *k*"
   ]
  },
  {
   "cell_type": "code",
   "execution_count": null,
   "id": "20e340aa-fac0-4cd1-8da0-ee5502a81504",
   "metadata": {},
   "outputs": [],
   "source": []
  },
  {
   "cell_type": "code",
   "execution_count": null,
   "id": "66197d18",
   "metadata": {},
   "outputs": [],
   "source": []
  },
  {
   "cell_type": "code",
   "execution_count": null,
   "id": "c7bdf570-062b-488c-9043-1372d3f6c391",
   "metadata": {},
   "outputs": [],
   "source": []
  },
  {
   "cell_type": "markdown",
   "id": "e6d3307d-3831-4a05-ba52-4cfe24262ec6",
   "metadata": {},
   "source": [
    "## 5. Fit final model and justify your choice"
   ]
  },
  {
   "cell_type": "code",
   "execution_count": 73,
   "id": "883dc3ac-f6cf-47cd-a779-d365f120207f",
   "metadata": {},
   "outputs": [],
   "source": [
    "# Apply the final model.\n"
   ]
  },
  {
   "cell_type": "code",
   "execution_count": 74,
   "id": "ae8802ea-7690-47e6-b23a-0ee483dcde58",
   "metadata": {},
   "outputs": [],
   "source": [
    "# Check the number of observations per predicted class.\n"
   ]
  },
  {
   "cell_type": "markdown",
   "id": "ec7d2cf2",
   "metadata": {},
   "source": [
    "## 6. Plot and interpret the clusters"
   ]
  },
  {
   "cell_type": "code",
   "execution_count": 75,
   "id": "e8cd85f4",
   "metadata": {},
   "outputs": [],
   "source": [
    "# Visualising the clusters.\n",
    "\n",
    "\n",
    "# View the DataFrame.\n"
   ]
  },
  {
   "cell_type": "code",
   "execution_count": 76,
   "id": "4de2b0d0",
   "metadata": {},
   "outputs": [],
   "source": [
    "# Visualising the clusters.\n",
    "\n"
   ]
  },
  {
   "cell_type": "markdown",
   "id": "5e5625ce",
   "metadata": {},
   "source": [
    "## 7. Discuss: Insights and observations\n",
    "\n",
    "***Your observations here...***"
   ]
  },
  {
   "cell_type": "code",
   "execution_count": null,
   "id": "ef3f7e95",
   "metadata": {},
   "outputs": [],
   "source": []
  },
  {
   "cell_type": "markdown",
   "id": "23335aa9",
   "metadata": {},
   "source": [
    "# "
   ]
  },
  {
   "cell_type": "markdown",
   "id": "d4b58c90",
   "metadata": {},
   "source": [
    "# Week 3 assignment: NLP using Python\n",
    "Customer reviews were downloaded from the website of Turtle Games. This data will be used to steer the marketing department on how to approach future campaigns. Therefore, the marketing department asked you to identify the 15 most common words used in online product reviews. They also want to have a list of the top 20 positive and negative reviews received from the website. Therefore, you need to apply NLP on the data set.\n",
    "\n",
    "## Instructions\n",
    "1. Load and explore the data. \n",
    "    1. Sense-check the DataFrame.\n",
    "    2. You only need to retain the `review` and `summary` columns.\n",
    "    3. Determine if there are any missing values.\n",
    "2. Prepare the data for NLP\n",
    "    1. Change to lower case and join the elements in each of the columns respectively (`review` and `summary`).\n",
    "    2. Replace punctuation in each of the columns respectively (`review` and `summary`).\n",
    "    3. Drop duplicates in both columns (`review` and `summary`).\n",
    "3. Tokenise and create wordclouds for the respective columns (separately).\n",
    "    1. Create a copy of the DataFrame.\n",
    "    2. Apply tokenisation on both columns.\n",
    "    3. Create and plot a wordcloud image.\n",
    "4. Frequency distribution and polarity.\n",
    "    1. Create frequency distribution.\n",
    "    2. Remove alphanumeric characters and stopwords.\n",
    "    3. Create wordcloud without stopwords.\n",
    "    4. Identify 15 most common words and polarity.\n",
    "5. Review polarity and sentiment.\n",
    "    1. Plot histograms of polarity (use 15 bins) for both columns.\n",
    "    2. Review the sentiment scores for the respective columns.\n",
    "6. Identify and print the top 20 positive and negative reviews and summaries respectively.\n",
    "7. Include your insights and observations."
   ]
  },
  {
   "cell_type": "markdown",
   "id": "40558b5f",
   "metadata": {},
   "source": [
    "## 1. Load and explore the data"
   ]
  },
  {
   "cell_type": "code",
   "execution_count": 77,
   "id": "9f32be5a",
   "metadata": {},
   "outputs": [
    {
     "ename": "ModuleNotFoundError",
     "evalue": "No module named 'wordcloud'",
     "output_type": "error",
     "traceback": [
      "\u001b[0;31m---------------------------------------------------------------------------\u001b[0m",
      "\u001b[0;31mModuleNotFoundError\u001b[0m                       Traceback (most recent call last)",
      "Input \u001b[0;32mIn [77]\u001b[0m, in \u001b[0;36m<cell line: 11>\u001b[0;34m()\u001b[0m\n\u001b[1;32m      6\u001b[0m \u001b[38;5;28;01mimport\u001b[39;00m \u001b[38;5;21;01mmatplotlib\u001b[39;00m\u001b[38;5;21;01m.\u001b[39;00m\u001b[38;5;21;01mpyplot\u001b[39;00m \u001b[38;5;28;01mas\u001b[39;00m \u001b[38;5;21;01mplt\u001b[39;00m\n\u001b[1;32m      8\u001b[0m \u001b[38;5;66;03m# nltk.download ('punkt').\u001b[39;00m\n\u001b[1;32m      9\u001b[0m \u001b[38;5;66;03m# nltk.download ('stopwords').\u001b[39;00m\n\u001b[0;32m---> 11\u001b[0m \u001b[38;5;28;01mfrom\u001b[39;00m \u001b[38;5;21;01mwordcloud\u001b[39;00m \u001b[38;5;28;01mimport\u001b[39;00m WordCloud\n\u001b[1;32m     12\u001b[0m \u001b[38;5;28;01mfrom\u001b[39;00m \u001b[38;5;21;01mnltk\u001b[39;00m\u001b[38;5;21;01m.\u001b[39;00m\u001b[38;5;21;01mtokenize\u001b[39;00m \u001b[38;5;28;01mimport\u001b[39;00m word_tokenize\n\u001b[1;32m     13\u001b[0m \u001b[38;5;28;01mfrom\u001b[39;00m \u001b[38;5;21;01mnltk\u001b[39;00m\u001b[38;5;21;01m.\u001b[39;00m\u001b[38;5;21;01mprobability\u001b[39;00m \u001b[38;5;28;01mimport\u001b[39;00m FreqDist\n",
      "\u001b[0;31mModuleNotFoundError\u001b[0m: No module named 'wordcloud'"
     ]
    }
   ],
   "source": [
    "# Import all the necessary packages.\n",
    "import pandas as pd\n",
    "import numpy as np\n",
    "import nltk \n",
    "import os \n",
    "import matplotlib.pyplot as plt\n",
    "\n",
    "# nltk.download ('punkt').\n",
    "# nltk.download ('stopwords').\n",
    "\n",
    "from wordcloud import WordCloud\n",
    "from nltk.tokenize import word_tokenize\n",
    "from nltk.probability import FreqDist\n",
    "from nltk.corpus import stopwords\n",
    "from textblob import TextBlob\n",
    "from scipy.stats import norm\n",
    "\n",
    "# Import Counter.\n",
    "from collections import Counter\n",
    "\n",
    "import warnings\n",
    "warnings.filterwarnings('ignore')"
   ]
  },
  {
   "cell_type": "code",
   "execution_count": null,
   "id": "85947561",
   "metadata": {},
   "outputs": [],
   "source": [
    "# Load the data set as df3.\n",
    "\n",
    "\n",
    "# View DataFrame.\n"
   ]
  },
  {
   "cell_type": "code",
   "execution_count": null,
   "id": "d86c8b70",
   "metadata": {},
   "outputs": [],
   "source": [
    "# Explore data set.\n"
   ]
  },
  {
   "cell_type": "code",
   "execution_count": null,
   "id": "1694122f",
   "metadata": {},
   "outputs": [],
   "source": [
    "# Keep necessary columns. Drop unnecessary columns.\n",
    "\n",
    "\n",
    "# View DataFrame.\n"
   ]
  },
  {
   "cell_type": "code",
   "execution_count": null,
   "id": "00736320",
   "metadata": {},
   "outputs": [],
   "source": [
    "# Determine if there are any missing values.\n"
   ]
  },
  {
   "cell_type": "markdown",
   "id": "936bd63b",
   "metadata": {},
   "source": [
    "## 2. Prepare the data for NLP\n",
    "### 2a) Change to lower case and join the elements in each of the columns respectively (review and summary)"
   ]
  },
  {
   "cell_type": "code",
   "execution_count": null,
   "id": "a51d4e9b",
   "metadata": {},
   "outputs": [],
   "source": [
    "# Review: Change all to lower case and join with a space.\n"
   ]
  },
  {
   "cell_type": "code",
   "execution_count": null,
   "id": "615be2ce",
   "metadata": {},
   "outputs": [],
   "source": [
    "# Summary: Change all to lower case and join with a space.\n"
   ]
  },
  {
   "cell_type": "markdown",
   "id": "1be5b39d",
   "metadata": {},
   "source": [
    "### 2b) Replace punctuation in each of the columns respectively (review and summary)"
   ]
  },
  {
   "cell_type": "code",
   "execution_count": null,
   "id": "17e14ff4",
   "metadata": {},
   "outputs": [],
   "source": [
    "# Replace all the punctuations in review column.\n",
    "\n",
    "\n",
    "# View output.\n"
   ]
  },
  {
   "cell_type": "code",
   "execution_count": null,
   "id": "e003fccc",
   "metadata": {},
   "outputs": [],
   "source": [
    "# Replace all the puncuations in summary column.\n",
    "\n",
    "\n",
    "# View output.\n"
   ]
  },
  {
   "cell_type": "markdown",
   "id": "aeb6d0b2",
   "metadata": {},
   "source": [
    "### 2c) Drop duplicates in both columns"
   ]
  },
  {
   "cell_type": "code",
   "execution_count": null,
   "id": "c6c0a6bb",
   "metadata": {},
   "outputs": [],
   "source": [
    "# Drop duplicates in both columns.\n",
    "\n",
    "\n",
    "# View DataFrame.\n"
   ]
  },
  {
   "cell_type": "markdown",
   "id": "4ee064a9-dbc4-4b82-b6e7-17c6e441fa05",
   "metadata": {},
   "source": [
    "## 3. Tokenise and create wordclouds"
   ]
  },
  {
   "cell_type": "code",
   "execution_count": null,
   "id": "5111dc03",
   "metadata": {},
   "outputs": [],
   "source": [
    "# Create new DataFrame (copy DataFrame).\n",
    "\n",
    "\n",
    "# View DataFrame.\n"
   ]
  },
  {
   "cell_type": "code",
   "execution_count": null,
   "id": "e7ace8c9",
   "metadata": {},
   "outputs": [],
   "source": [
    "# Apply tokenisation to both columns.\n",
    "\n",
    "\n",
    "# View DataFrame.\n"
   ]
  },
  {
   "cell_type": "code",
   "execution_count": null,
   "id": "105d7520",
   "metadata": {},
   "outputs": [],
   "source": [
    "# Review: Create a word cloud.\n"
   ]
  },
  {
   "cell_type": "code",
   "execution_count": null,
   "id": "eac7e7dd",
   "metadata": {},
   "outputs": [],
   "source": [
    "# Review: Plot the WordCloud image.\n"
   ]
  },
  {
   "cell_type": "code",
   "execution_count": null,
   "id": "22cbdfc4",
   "metadata": {},
   "outputs": [],
   "source": [
    "# Summary: Create a word cloud.\n"
   ]
  },
  {
   "cell_type": "code",
   "execution_count": null,
   "id": "f53776cb",
   "metadata": {},
   "outputs": [],
   "source": [
    "# Summary: Plot the WordCloud image.\n"
   ]
  },
  {
   "cell_type": "markdown",
   "id": "a3b5abd1",
   "metadata": {},
   "source": [
    "## 4. Frequency distribution and polarity\n",
    "### 4a) Create frequency distribution"
   ]
  },
  {
   "cell_type": "code",
   "execution_count": null,
   "id": "e06c1b17",
   "metadata": {},
   "outputs": [],
   "source": [
    "# Determine the frequency distribution.\n"
   ]
  },
  {
   "cell_type": "markdown",
   "id": "bd574d03-a034-454d-b6c5-89aa764c459a",
   "metadata": {},
   "source": [
    "### 4b) Remove alphanumeric characters and stopwords"
   ]
  },
  {
   "cell_type": "code",
   "execution_count": null,
   "id": "bd28216b",
   "metadata": {},
   "outputs": [],
   "source": [
    "# Delete all the alpanum.\n"
   ]
  },
  {
   "cell_type": "code",
   "execution_count": null,
   "id": "4a757d57",
   "metadata": {},
   "outputs": [],
   "source": [
    "# Remove all the stopwords\n"
   ]
  },
  {
   "cell_type": "markdown",
   "id": "0e68b09f-853e-4c9c-8ff9-ba0b33b8c8e3",
   "metadata": {},
   "source": [
    "### 4c) Create wordcloud without stopwords"
   ]
  },
  {
   "cell_type": "code",
   "execution_count": null,
   "id": "aa99b607",
   "metadata": {},
   "outputs": [],
   "source": [
    "# Create a wordcloud without stop words.\n"
   ]
  },
  {
   "cell_type": "code",
   "execution_count": null,
   "id": "37bf8dd3",
   "metadata": {},
   "outputs": [],
   "source": [
    "# Plot the wordcloud image.\n"
   ]
  },
  {
   "cell_type": "markdown",
   "id": "01c0b15b",
   "metadata": {},
   "source": [
    "### 4d) Identify 15 most common words and polarity"
   ]
  },
  {
   "cell_type": "code",
   "execution_count": null,
   "id": "2745e8bc",
   "metadata": {},
   "outputs": [],
   "source": [
    "# Determine the 15 most common words.\n"
   ]
  },
  {
   "cell_type": "markdown",
   "id": "59291784-3505-41e5-9914-e4ec8914524b",
   "metadata": {},
   "source": [
    "## 5. Review polarity and sentiment: Plot histograms of polarity (use 15 bins) and sentiment scores for the respective columns."
   ]
  },
  {
   "cell_type": "code",
   "execution_count": null,
   "id": "84288b8f-aab4-4fff-98d0-aaaf5eef28e8",
   "metadata": {},
   "outputs": [],
   "source": [
    "# Provided function.\n",
    "def generate_polarity(comment):\n",
    "    '''Extract polarity score (-1 to +1) for each comment'''\n",
    "    return TextBlob(comment).sentiment[0]"
   ]
  },
  {
   "cell_type": "code",
   "execution_count": null,
   "id": "8eea3a34",
   "metadata": {},
   "outputs": [],
   "source": [
    "# Determine polarity of both columns. \n",
    "\n",
    "\n",
    "# View output.\n"
   ]
  },
  {
   "cell_type": "code",
   "execution_count": null,
   "id": "2fcb45fe",
   "metadata": {},
   "outputs": [],
   "source": [
    "# Review: Create a histogram plot with bins = 15.\n",
    "# Histogram of polarity\n",
    "\n",
    "\n",
    "# Histogram of sentiment score\n"
   ]
  },
  {
   "cell_type": "code",
   "execution_count": null,
   "id": "3d9d1928",
   "metadata": {},
   "outputs": [],
   "source": [
    "# Summary: Create a histogram plot with bins = 15.\n",
    "# Histogram of polarity\n",
    "\n",
    "\n",
    "# Histogram of sentiment score\n"
   ]
  },
  {
   "cell_type": "markdown",
   "id": "7a2523b8",
   "metadata": {},
   "source": [
    "## 6. Identify top 20 positive and negative reviews and summaries respectively"
   ]
  },
  {
   "cell_type": "code",
   "execution_count": null,
   "id": "66d7c797",
   "metadata": {},
   "outputs": [],
   "source": [
    "# Top 20 negative reviews.\n",
    "\n",
    "\n",
    "# View output.\n"
   ]
  },
  {
   "cell_type": "code",
   "execution_count": null,
   "id": "e172c083",
   "metadata": {},
   "outputs": [],
   "source": [
    "# Top 20 negative summaries.\n",
    "\n",
    "\n",
    "# View output.\n"
   ]
  },
  {
   "cell_type": "code",
   "execution_count": null,
   "id": "348d8b54",
   "metadata": {},
   "outputs": [],
   "source": [
    "# Top 20 positive reviews.\n",
    "\n",
    "\n",
    "# View output.\n"
   ]
  },
  {
   "cell_type": "code",
   "execution_count": null,
   "id": "ee7c44eb",
   "metadata": {},
   "outputs": [],
   "source": [
    "# Top 20 positive summaries.\n",
    "\n",
    "\n",
    "# View output.\n"
   ]
  },
  {
   "cell_type": "markdown",
   "id": "41b2a108-a8af-4164-9b02-40068c17836d",
   "metadata": {},
   "source": [
    "## 7. Discuss: Insights and observations\n",
    "\n",
    "***Your observations here...***"
   ]
  },
  {
   "cell_type": "code",
   "execution_count": null,
   "id": "7c7f4c8c",
   "metadata": {},
   "outputs": [],
   "source": []
  },
  {
   "cell_type": "markdown",
   "id": "c3ac5e57",
   "metadata": {},
   "source": [
    "# "
   ]
  }
 ],
 "metadata": {
  "kernelspec": {
   "display_name": "Python 3 (ipykernel)",
   "language": "python",
   "name": "python3"
  },
  "language_info": {
   "codemirror_mode": {
    "name": "ipython",
    "version": 3
   },
   "file_extension": ".py",
   "mimetype": "text/x-python",
   "name": "python",
   "nbconvert_exporter": "python",
   "pygments_lexer": "ipython3",
   "version": "3.9.12"
  },
  "toc": {
   "base_numbering": 1,
   "nav_menu": {},
   "number_sections": true,
   "sideBar": true,
   "skip_h1_title": false,
   "title_cell": "Table of Contents",
   "title_sidebar": "Contents",
   "toc_cell": false,
   "toc_position": {},
   "toc_section_display": true,
   "toc_window_display": false
  },
  "varInspector": {
   "cols": {
    "lenName": 16,
    "lenType": 16,
    "lenVar": 40
   },
   "kernels_config": {
    "python": {
     "delete_cmd_postfix": "",
     "delete_cmd_prefix": "del ",
     "library": "var_list.py",
     "varRefreshCmd": "print(var_dic_list())"
    },
    "r": {
     "delete_cmd_postfix": ") ",
     "delete_cmd_prefix": "rm(",
     "library": "var_list.r",
     "varRefreshCmd": "cat(var_dic_list()) "
    }
   },
   "types_to_exclude": [
    "module",
    "function",
    "builtin_function_or_method",
    "instance",
    "_Feature"
   ],
   "window_display": false
  }
 },
 "nbformat": 4,
 "nbformat_minor": 5
}
